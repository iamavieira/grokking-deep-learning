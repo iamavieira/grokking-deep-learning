{
 "cells": [
  {
   "cell_type": "code",
   "execution_count": 22,
   "metadata": {},
   "outputs": [
    {
     "name": "stdout",
     "output_type": "stream",
     "text": [
      "Weights_0_1: [[-0.16595599  0.44064899 -0.99977125 -0.39533485]\n",
      " [-0.70648822 -0.81532281 -0.62747958 -0.30887855]\n",
      " [-0.20646505  0.07763347 -0.16161097  0.370439  ]]\n",
      "Weights_1_2: [[-0.5910955 ]\n",
      " [ 0.75623487]\n",
      " [-0.94522481]\n",
      " [ 0.34093502]]\n"
     ]
    }
   ],
   "source": [
    "import numpy as np\n",
    "\n",
    "#Hyperparameters\n",
    "np.random.seed(1);\n",
    "hidden_size = 4;\n",
    "alpha = .2;\n",
    "\n",
    "#two datasets\n",
    "#input\n",
    "streetlights = np.array([ [1, 0, 1],\n",
    "                          [0, 1, 1],\n",
    "                          [0, 0, 1],\n",
    "                          [1, 1, 1] ]);\n",
    "\n",
    "#output \n",
    "walk_vs_stop = np.array([ [1, 0, 0, 0] ]).T\n",
    "\n",
    "#two sets of weights now to connect our 3 layers\n",
    "weights_0_1 = 2 * np.random.random((3, hidden_size)) - 1;\n",
    "weights_1_2 = 2 * np.random.random((hidden_size, 1)) - 1;\n",
    "\n",
    "print('Weights_0_1: ' + str(weights_0_1));\n",
    "print('Weights_1_2: ' + str(weights_1_2));"
   ]
  },
  {
   "cell_type": "code",
   "execution_count": 23,
   "metadata": {},
   "outputs": [
    {
     "name": "stdout",
     "output_type": "stream",
     "text": [
      "[-0.          0.51828245 -0.         -0.        ]\n"
     ]
    }
   ],
   "source": [
    "#this function sets all negative numbers to zero;\n",
    "def relu(x):\n",
    "    #it returns true or false, as well the number that \n",
    "    #represent these states i.e. 0 and 1;\n",
    "    #value = (x > 0) - x; here, if it's true 1 - x otherwise 0 - x;  \n",
    "    value = (x > 0) * x; \n",
    "    print(value);\n",
    "    return value;\n",
    "\n",
    "#defining layers\n",
    "layer_0 = streetlights[0];\n",
    "layer_1 = relu(np.dot(layer_0, weights_0_1));\n",
    "layer_2 = layer_1.dot(weights_1_2);\n"
   ]
  },
  {
   "cell_type": "markdown",
   "metadata": {},
   "source": [
    "Weighted sums are made into the nodes. For each node at layer_1 we perform a weighted sum. \n",
    "These weighted sums are then passed through  the 'relu' funtion, having all negative values converted to zero.\n",
    "A last weighted sum is then performed into the final node at layer 2."
   ]
  },
  {
   "cell_type": "markdown",
   "metadata": {},
   "source": [
    "**IT'S TIME** - How can we learn the amount that each weight contributed to the error? Backpropagation in code."
   ]
  },
  {
   "cell_type": "code",
   "execution_count": 87,
   "metadata": {},
   "outputs": [
    {
     "name": "stdout",
     "output_type": "stream",
     "text": [
      "[[0.36973299]]\n",
      "[[-0.60805673]]\n"
     ]
    }
   ],
   "source": [
    "import numpy as np\n",
    "\n",
    "np.random.seed(1);\n",
    "\n",
    "alpha = .2;\n",
    "hidden_size = 4;\n",
    "\n",
    "weights_0_1 = 2 * np.random.random((3, hidden_size)) - 1;\n",
    "weights_1_2 = 2 * np.random.random((hidden_size, 1)) - 1;\n",
    "\n",
    "def relu(x):\n",
    "    return (x > 0) * x;\n",
    "\n",
    "def relu2deriv(output):\n",
    "    return output > 0;\n",
    "\n",
    "for interaction in range(60):\n",
    "    layer_2_error = 0;\n",
    "    for index in range(len(streetlights)):\n",
    "        layer_0 = streetlights[index:index+1];\n",
    "        layer_1 = relu(layer_0.dot(weights_0_1));\n",
    "        layer_2 = layer_1.dot(weights_1_2);\n",
    "        \n",
    "        mserror_layer_2 = (np.subtract(layer_2, walk_vs_stop[index:index+1])) ** 2;\n",
    "        layer_2_error += mserror_layer_2;\n",
    "        \n",
    "        delta = np.subtract(layer_2, walk_vs_stop[index: index + 1]);\n",
    "        weight_delta = \n",
    "        break;\n",
    "    break;"
   ]
  },
  {
   "cell_type": "code",
   "execution_count": 74,
   "metadata": {},
   "outputs": [
    {
     "name": "stdout",
     "output_type": "stream",
     "text": [
      "[[-0.          0.51828245 -0.         -0.        ]]\n",
      "[[-0.         -0.         -0.          0.06156045]]\n",
      "[[-0.          0.07763347 -0.          0.370439  ]]\n",
      "[[-0. -0. -0. -0.]]\n",
      "<class 'list'>\n",
      "<class 'numpy.ndarray'>\n"
     ]
    }
   ],
   "source": [
    "#random area for testing\n",
    "for index in range(len(streetlights)):\n",
    "        layer_0 = streetlights[index : index + 1];\n",
    "        layer_1 = relu(layer_0.dot(weights_0_1));\n",
    "        print(layer_1);\n",
    "        \n",
    "\n",
    "\n",
    "\n",
    "some_array = [0, 2, 4, 6];\n",
    "print(type(some_array));\n",
    "some_array = np.array(some_array);\n",
    "print(type(some_array));"
   ]
  }
 ],
 "metadata": {
  "kernelspec": {
   "display_name": "Python 3",
   "language": "python",
   "name": "python3"
  },
  "language_info": {
   "codemirror_mode": {
    "name": "ipython",
    "version": 3
   },
   "file_extension": ".py",
   "mimetype": "text/x-python",
   "name": "python",
   "nbconvert_exporter": "python",
   "pygments_lexer": "ipython3",
   "version": "3.6.5"
  }
 },
 "nbformat": 4,
 "nbformat_minor": 2
}
