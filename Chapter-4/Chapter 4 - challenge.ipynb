{
 "cells": [
  {
   "cell_type": "markdown",
   "metadata": {},
   "source": [
    "Memorizing - Build neural network from memory."
   ]
  },
  {
   "cell_type": "code",
   "execution_count": null,
   "metadata": {},
   "outputs": [],
   "source": [
    "input, weight, goal_pred, alpha, interaction = (3, .2, 25, .1, 20);\n",
    "\n",
    "def neural_network(input, weight):\n",
    "    for i in range(interaction):\n",
    "        pred = input * weight;\n",
    "        print('Weight: ' + str(weight));\n",
    "        msquared_error = (pred - goal_pred) ** 2;\n",
    "        delta = pred - goal_pred;\n",
    "        weight_delta = delta * input;\n",
    "        weight -= weight_delta * alpha\n",
    "    \n",
    "        print('Pred :' + str(pred) + ' Error: ' + str(msquared_error)\n",
    "          + ' Delta: ' + str(delta) + ' Weight_delta: ' + str(weight_delta)\n",
    "          + '\\n-----------------');\n",
    "\n",
    "\n",
    "neural_network(input, weight);"
   ]
  },
  {
   "cell_type": "code",
   "execution_count": null,
   "metadata": {},
   "outputs": [],
   "source": [
    "goal_pred, input, weight = 123, 32, 45\n",
    "for i in range(100):\n",
    "    pred = input * weight\n",
    "    mserror = (pred - goal_pred) ** 2\n",
    "    delta = pred - goal_pred\n",
    "    weight_delta = input * delta\n",
    "    weight -= weight_delta * .001\n",
    "    print('Pred: ' + str(pred) + ' Error: ' + str(mserror) + '\\n')"
   ]
  }
 ],
 "metadata": {
  "kernelspec": {
   "display_name": "Python 3",
   "language": "python",
   "name": "python3"
  },
  "language_info": {
   "codemirror_mode": {
    "name": "ipython",
    "version": 3
   },
   "file_extension": ".py",
   "mimetype": "text/x-python",
   "name": "python",
   "nbconvert_exporter": "python",
   "pygments_lexer": "ipython3",
   "version": "3.6.5"
  }
 },
 "nbformat": 4,
 "nbformat_minor": 2
}
