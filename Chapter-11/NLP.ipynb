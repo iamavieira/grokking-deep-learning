{
 "cells": [
  {
   "cell_type": "markdown",
   "metadata": {},
   "source": [
    "Amazon movie review"
   ]
  },
  {
   "cell_type": "markdown",
   "metadata": {},
   "source": [
    "one-hot encoding - most commom format to encode binary data"
   ]
  },
  {
   "cell_type": "code",
   "execution_count": 1,
   "metadata": {},
   "outputs": [],
   "source": [
    "import re\n",
    "import numpy as np\n",
    "import pandas as pd\n",
    "from itertools_recipes import unique_everseen\n",
    "from IPython.core.debugger import set_trace\n",
    "from tqdm.notebook import tqdm"
   ]
  },
  {
   "cell_type": "markdown",
   "metadata": {},
   "source": [
    "One hot encoding to create an embedding "
   ]
  },
  {
   "cell_type": "code",
   "execution_count": 2,
   "metadata": {},
   "outputs": [
    {
     "name": "stdout",
     "output_type": "stream",
     "text": [
      "Embedding: [1 1 0 1]\n"
     ]
    }
   ],
   "source": [
    "oneHots = {}\n",
    "oneHots['cat'] = np.array([1, 0, 0, 0])\n",
    "oneHots['the'] = np.array([0, 1, 0, 0])\n",
    "oneHots['dog'] = np.array([0, 0, 1, 0])\n",
    "oneHots['sat'] = np.array([0, 0, 0, 1])\n",
    "\n",
    "def word2Hot(word):\n",
    "    return oneHots[word]\n",
    "\n",
    "sentence = ['the', 'cat', 'sat']\n",
    "x = np.asarray([word2Hot(word) for word in sentence])\n",
    "print('Embedding: ' + str(np.sum(x, axis=0)))"
   ]
  },
  {
   "cell_type": "markdown",
   "metadata": {},
   "source": [
    "Amazon movie reviews https://snap.stanford.edu/data/web-Movies.html"
   ]
  },
  {
   "cell_type": "code",
   "execution_count": 3,
   "metadata": {},
   "outputs": [],
   "source": [
    "scores = list()\n",
    "reviews = list()\n",
    "with open('/mnt/data/amazon/movies/reviews/reviews.txt') as file:\n",
    "    for line in file:\n",
    "        review = re.search('review/text', line)\n",
    "        score  = re.search('review/score', line)\n",
    "        if(review):\n",
    "            reviews.append(line)\n",
    "        elif(score):\n",
    "            scores.append(line)"
   ]
  },
  {
   "cell_type": "code",
   "execution_count": 4,
   "metadata": {},
   "outputs": [
    {
     "data": {
      "application/vnd.jupyter.widget-view+json": {
       "model_id": "00b6c08881d044c2a2f52813be0f5eb6",
       "version_major": 2,
       "version_minor": 0
      },
      "text/plain": [
       "HBox(children=(FloatProgress(value=0.0, max=1109.0), HTML(value='')))"
      ]
     },
     "metadata": {},
     "output_type": "display_data"
    },
    {
     "name": "stdout",
     "output_type": "stream",
     "text": [
      "\n"
     ]
    }
   ],
   "source": [
    "def add_review(words, review):\n",
    "    words.extend(clean_review(review).split())\n",
    "    words = list(unique_everseen(words, key=str.lower))\n",
    "\n",
    "def clean_review(review):\n",
    "    review = remove_html_tags(review)\n",
    "    review = remove_line_breaks(review)\n",
    "    review = replace_dots_with_whitespaces(review)\n",
    "    review = remove_everything_else_but_alphanumeric(review)\n",
    "    review = remove_reviewtext_string(review)\n",
    "    review = remove_numeric_characters(review)\n",
    "    return review\n",
    "    \n",
    "def remove_html_tags(review):\n",
    "    return re.sub('<.*?>', '', review)\n",
    "  \n",
    "def remove_line_breaks(review):\n",
    "    return re.sub('\\n', '', review)\n",
    "\n",
    "def replace_dots_with_whitespaces(review):\n",
    "    return re.sub('\\.', ' ', review)\n",
    "    \n",
    "def remove_everything_else_but_alphanumeric(review):\n",
    "    return re.sub(r'([^\\s\\w]|_)+', '', review)\n",
    "\n",
    "def remove_reviewtext_string(review):\n",
    "    return re.sub('reviewtext', '', review)\n",
    "\n",
    "def remove_numeric_characters(review):\n",
    "    return re.sub(r'\\d', '', review)\n",
    "\n",
    "words = list()\n",
    "reviews = [add_review(words, review) for review in tqdm(reviews)]"
   ]
  },
  {
   "cell_type": "code",
   "execution_count": 5,
   "metadata": {},
   "outputs": [
    {
     "data": {
      "text/plain": [
       "195216"
      ]
     },
     "execution_count": 5,
     "metadata": {},
     "output_type": "execute_result"
    }
   ],
   "source": [
    "len(words)"
   ]
  },
  {
   "cell_type": "code",
   "execution_count": null,
   "metadata": {},
   "outputs": [
    {
     "data": {
      "application/vnd.jupyter.widget-view+json": {
       "model_id": "b800fb3816df4800ab8efd2f1f46056e",
       "version_major": 2,
       "version_minor": 0
      },
      "text/plain": [
       "HBox(children=(FloatProgress(value=0.0, max=195216.0), HTML(value='')))"
      ]
     },
     "metadata": {},
     "output_type": "display_data"
    }
   ],
   "source": [
    "bag_of_words = {}\n",
    "for index, word in enumerate(tqdm(words)):\n",
    "    dimensions = np.zeros(len(words))\n",
    "    dimensions[index] = 1\n",
    "    bag_of_words[word] = dimensions "
   ]
  },
  {
   "cell_type": "code",
   "execution_count": null,
   "metadata": {},
   "outputs": [],
   "source": []
  }
 ],
 "metadata": {
  "kernelspec": {
   "display_name": "Python 3",
   "language": "python",
   "name": "python3"
  },
  "language_info": {
   "codemirror_mode": {
    "name": "ipython",
    "version": 3
   },
   "file_extension": ".py",
   "mimetype": "text/x-python",
   "name": "python",
   "nbconvert_exporter": "python",
   "pygments_lexer": "ipython3",
   "version": "3.7.4"
  }
 },
 "nbformat": 4,
 "nbformat_minor": 4
}
