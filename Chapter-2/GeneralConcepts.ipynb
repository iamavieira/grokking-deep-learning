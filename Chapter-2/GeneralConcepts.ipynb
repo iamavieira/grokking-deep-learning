{
 "cells": [
  {
   "cell_type": "markdown",
   "metadata": {},
   "source": [
    "**Supervised learn - pick one dataset and tranform into another.**\n",
    "\n",
    "Direct imitaton of a pattern between two datasets\n",
    "\n",
    "What we know - SL - What we want to know"
   ]
  },
  {
   "cell_type": "markdown",
   "metadata": {},
   "source": [
    "**Unsupervised learn - Clustering - All forms of unsupervised learning can be viewed this way.**"
   ]
  },
  {
   "cell_type": "markdown",
   "metadata": {},
   "source": [
    "This divides machine learning algorithm based on the type of pattern learned."
   ]
  },
  {
   "cell_type": "markdown",
   "metadata": {},
   "source": [
    "There's also prediction based on the way the learning is stored or by extension,\n",
    "the method of learning"
   ]
  },
  {
   "cell_type": "markdown",
   "metadata": {},
   "source": [
    "parametric - trial and error - fixed, but arbitrary, number of knobs\n",
    "nonparametric - counting - dynamic number of knobs"
   ]
  },
  {
   "cell_type": "markdown",
   "metadata": {},
   "source": [
    "**supervised parametric-**\n",
    "\n",
    "note that each knob represents the prediction's \n",
    "sensitivity to different types of input data. \n",
    "That's what you're changing when you're learning."
   ]
  },
  {
   "cell_type": "markdown",
   "metadata": {},
   "source": [
    "unsupervised parametric - uses knobs to group data. Tells us the probability of that input data(datapoint) to belong to one of the groups, Several knobs can be used to identify that.\n",
    "Adjust parameters to transform the data in its subscribing group(s)."
   ]
  },
  {
   "cell_type": "markdown",
   "metadata": {},
   "source": [
    "**Nonparametric learning -**\n",
    "\n",
    "You have as many parameters as the input data requires. New type of datapoint, new parameter."
   ]
  },
  {
   "cell_type": "markdown",
   "metadata": {},
   "source": [
    "**Parameter(s) itself is a generic term.**\n",
    "\n",
    "It refers to the set of numbers used to model a pattern(without any limitation on how these numbers are used).\n",
    "\n",
    "Weights are parameters. Counts are parameters. Normalized variants of counts or weights are parameters. Correlation coefficients *can be* parameters."
   ]
  },
  {
   "cell_type": "markdown",
   "metadata": {},
   "source": [
    "**DEEP LEARNING IS A CLASS OF PARAMETRIC MODELS**"
   ]
  },
  {
   "cell_type": "code",
   "execution_count": null,
   "metadata": {},
   "outputs": [],
   "source": []
  }
 ],
 "metadata": {
  "kernelspec": {
   "display_name": "Python 3",
   "language": "python",
   "name": "python3"
  },
  "language_info": {
   "codemirror_mode": {
    "name": "ipython",
    "version": 3
   },
   "file_extension": ".py",
   "mimetype": "text/x-python",
   "name": "python",
   "nbconvert_exporter": "python",
   "pygments_lexer": "ipython3",
   "version": "3.8.1"
  }
 },
 "nbformat": 4,
 "nbformat_minor": 4
}
