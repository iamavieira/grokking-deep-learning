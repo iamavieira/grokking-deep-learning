{
 "cells": [
  {
   "cell_type": "markdown",
   "metadata": {},
   "source": [
    "Activation Function: A function we applied to \n",
    "the neurons in a layer during prediction.\n",
    "A function that takes a number and returns another.\n",
    "There's an infinite number of functions out there, but a good activation function follows some contraints:"
   ]
  },
  {
   "cell_type": "markdown",
   "metadata": {},
   "source": [
    "**_First constraint:\n",
    "it must be continuous and infinite in domain_**.\n",
    "A function **f** is continuous when for every value _c_ in its domain, $f(c)$ is defined, and as x approaches c, $f(x) = f(c)$ \n",
    "$$\\lim_{x\\to\\c} f(x) = f(c)$$"
   ]
  },
  {
   "cell_type": "markdown",
   "metadata": {},
   "source": [
    "Also, simply put, its graph is an unbroken curve, with no jumps, \n",
    "holes or vertical asymptotes in its domain. There's no input x for which we can't compute an output y."
   ]
  },
  {
   "cell_type": "code",
   "execution_count": null,
   "metadata": {
    "scrolled": true
   },
   "outputs": [],
   "source": [
    "import matplotlib.pyplot as plt\n",
    "import numpy as np\n",
    "\n",
    "def continuous_function(x):\n",
    "    return x * x;\n",
    "\n",
    "x = range(-100, 101, 10);\n",
    "y = zip([continuous_function(value) for value in x]);\n",
    "\n",
    "plt.plot(list(x), list(y));\n",
    "plt.ylabel('y (output)');\n",
    "plt.xlabel('x (input)');"
   ]
  },
  {
   "cell_type": "markdown",
   "metadata": {},
   "source": [
    "**Second Constraint: Good activation functions are monotonic. \n",
    "Never changing direction i.e. always increasing or always decreasing**.\n",
    "\n",
    "This constraint is not technically a requirement. Unlike functions that have missing values(non-continuous), we can optimize functions that aren't monotonic."
   ]
  },
  {
   "cell_type": "code",
   "execution_count": 43,
   "metadata": {},
   "outputs": [
    {
     "data": {
      "image/png": "[encoded data removed]",
      "text/plain": [
       "<Figure size 432x288 with 1 Axes>"
      ]
     },
     "metadata": {},
     "output_type": "display_data"
    }
   ],
   "source": [
    "def monotonic_function(value):\n",
    "    return value;\n",
    "\n",
    "y = zip([monotonic_function(value) for value in x]);\n",
    "\n",
    "plt.plot(list(x), list(y));\n",
    "\n",
    "#The previous function i.e. y = x*x, isn't monotonic for\n",
    "#two different values of x can generate the same y. It changes direction."
   ]
  },
  {
   "cell_type": "markdown",
   "metadata": {},
   "source": [
    "for non-monotonic functions, consider the implication of having \n",
    "multiple 'perfect' configuration of weights to get to the same\n",
    "specific output. We are likely to find the answer if it can be found in multiple places. In the other hand, we no longer have a correct direction to move our weights to reduce the error for, theoretically, either direction would do."
   ]
  },
  {
   "cell_type": "markdown",
   "metadata": {},
   "source": [
    "**Third Constraint: \n",
    "Good activation functions are nonlinear(i.e. they squiggle and turn).**"
   ]
  },
  {
   "cell_type": "markdown",
   "metadata": {},
   "source": [
    "The secret sauce in sometimes correlation:\n",
    "Selectively correlate to input neurons such that a quite negative\n",
    "value from one input could reduce how much a neuron correlated with any input at all(by simply forcing the neuron to drop to zero in the case of 'relu'). Curved functions facilitate this.\n",
    "\n",
    "When we have 'straight line' functions(i.e. linear functions) we simply scale the weighted average coming in. Simply scaling something doesn't affect how correlated a neuron is to its inputs. It just makes the collective correlation that is represented louder or softer.\n",
    "\n",
    "**Given a neuron with an activation function, we want 0ne incoming signal to be able to increase or decrease how correlated a neuron is to all of the other incoming signals**;"
   ]
  },
  {
   "cell_type": "markdown",
   "metadata": {},
   "source": [
    "Linear function:"
   ]
  },
  {
   "cell_type": "code",
   "execution_count": null,
   "metadata": {},
   "outputs": [],
   "source": [
    "#there's no need to account for derivatives at linear functions,\n",
    "#for it is simply scaling the weighted average coming in. 1:1;\n",
    "linear = lambda x: 2 * x + 5"
   ]
  },
  {
   "cell_type": "markdown",
   "metadata": {},
   "source": [
    "_**Relu activation function:**_"
   ]
  },
  {
   "cell_type": "code",
   "execution_count": null,
   "metadata": {},
   "outputs": [],
   "source": [
    "def relu(input):\n",
    "    return (input > 0) * input;\n",
    "\n",
    "def relu2deriv(output):\n",
    "    return (output > 0);\n",
    "\n",
    "input = [ value for value in range(-10, 10) ];\n",
    "output = [ relu(value) for value in input ]\n",
    "deriv = [ relu2deriv(value) for value in output ]\n",
    "print(output);\n",
    "plt.plot(input, output);\n",
    "plt.plot(input, deriv);"
   ]
  },
  {
   "cell_type": "markdown",
   "metadata": {},
   "source": [
    "**Forth Constraint: \n",
    "Good activaton functions( and their derivatives ) \n",
    "should be efficiently computable**"
   ]
  },
  {
   "cell_type": "markdown",
   "metadata": {},
   "source": [
    "This one is easy. One is going to call this function a LOT\n",
    "( sometimes billions of times), so one does not want it to be slow.\n",
    "\n",
    "In fact, most recent activation functions became popular due to their effortless computation at the expense of its expressiveness( 'relu' is a good example of it)."
   ]
  },
  {
   "cell_type": "markdown",
   "metadata": {},
   "source": [
    "**Standard hidden layer activation functions.**"
   ]
  },
  {
   "cell_type": "markdown",
   "metadata": {},
   "source": [
    "**_Sigmoid: The bread and butter_**\n",
    "\n",
    "$$\\sigma(sigma) = \\frac{1}{1+e^{-x}}$$"
   ]
  },
  {
   "cell_type": "markdown",
   "metadata": {},
   "source": [
    "Generate values between zero and one. Can, and most of the time is used, in the output layer, as a way to get probabilities out of each neuron. 'Varying degrees of positive correlation'."
   ]
  },
  {
   "cell_type": "code",
   "execution_count": null,
   "metadata": {
    "scrolled": true
   },
   "outputs": [],
   "source": [
    "sigmoid = lambda input: 1/(1+np.exp(-input));\n",
    "sigmoid2deriv = lambda output: output * (1 - output);\n",
    "\n",
    "input = range(-10, 10);\n",
    "output = [ sigmoid(value) for value in input ];\n",
    "deriv = [ sigmoid2deriv(value) for value in output ] \n",
    "\n",
    "plt.plot(input, output);\n",
    "plt.plot(output, deriv);\n",
    "_"
   ]
  },
  {
   "cell_type": "markdown",
   "metadata": {},
   "source": [
    "**Tanh(hyperbolic tangent)**: generate values between -1 and 1; It's great for hidden layers as it can throw some negative correlation and help us modeling our selective correlation."
   ]
  },
  {
   "cell_type": "markdown",
   "metadata": {},
   "source": [
    "$sinh x = \\frac{e^x - e^{-x}}{2}$\n",
    "\n",
    "$$cosh x = \\frac{e^x + e^{-x}}{2}$$\n",
    "\n",
    "$$tanh x = \\frac{sinhx}{coshx} = \\frac{e^x - e^{-x}}{e^x + e^{-x}}$$"
   ]
  },
  {
   "cell_type": "code",
   "execution_count": null,
   "metadata": {},
   "outputs": [],
   "source": [
    "def tanh(input):\n",
    "    return sinh(input) / cosh(input)\n",
    "def sinh(x):\n",
    "    return (np.exp(x) - np.exp(-x)) / 2\n",
    "def cosh(x):\n",
    "    return (np.exp(x) + np.exp(-x)) / 2\n",
    "\n",
    "def tanh2deriv(output):\n",
    "    return 1 - output ** 2\n",
    "    \n",
    "input = range(-100, 101, 10);\n",
    "output = [ tanh(value) for value in input ]\n",
    "deriv = [ tanh2deriv(value) for value in output ]\n",
    "\n",
    "plt.plot(input, output);\n",
    "#plt.plot(input, np.tanh(input)); built-in tanh;\n",
    "plt.plot(output, deriv);"
   ]
  },
  {
   "cell_type": "markdown",
   "metadata": {},
   "source": [
    "  9.3 Standard output layer activation functions"
   ]
  },
  {
   "cell_type": "markdown",
   "metadata": {},
   "source": [
    "Chosen based on output layer.\n",
    "\n",
    "Three major types of output layer:"
   ]
  },
  {
   "cell_type": "markdown",
   "metadata": {},
   "source": [
    "Raw data values(No activation function): output values are outside of tanh or sigmoid(i.e. -1 to 1), so there's no need to use them. \n",
    "Trask states, in such cases, that he would personally opt to train the network without an activation function on the output at all. e.g. Predicting temperature based on surroundings. "
   ]
  },
  {
   "cell_type": "markdown",
   "metadata": {},
   "source": [
    "Unrelated Yes/No probabilities(sigmoid):\n",
    "Multiple binary probabilities in the same network.\n",
    "An example of it is our 'Multiple inputs and outputs' network, back at chapter 5;\n",
    "We had whether the team would win, whether there would be injuries and the morale of the team(happy or sad);\n",
    "Even though those predictions are separate, for hidden layers, perfectly predicting one could mean increased chances of getting the other right.\n"
   ]
  },
  {
   "cell_type": "markdown",
   "metadata": {},
   "source": [
    "Which one probabilities(Softmax):\n",
    "The most common case - predicting a single label out of many.\n",
    "softmax - The more likely it's one of the labels, the less likely it's any of the others.\n",
    "Where softmax asks 'which digit seems the best fit for this input?'\n",
    "sigmoid says 'you better believe it's only digit nine and doesn't have anything in common with other MNIST digits'.\n",
    "When we use sigmoid instead of softmax in our MNIST network we are bound to, even if we predicted perfectly(0 for everything except our label), we still end up backpropagating error, because for sigmoid it's not only about predicting the highest value for the true label, but predicting 0 everywhere else."
   ]
  },
  {
   "cell_type": "code",
   "execution_count": null,
   "metadata": {},
   "outputs": [],
   "source": [
    "e.g.\n",
    "    should predict nine:\n",
    "    raw_dot_product_values = (0, 0, 0, 0, 0, 0, 0, 0, 0, 1);\n",
    "    sigmoid(raw_dot_product_values) => (.5, .5 ... .5, .99)\n",
    "    #We'll backpropagate this thing, configuring an huge weight update, even though we already predicted perfectly.\n",
    "    sigmoid_msquared_error => (.25, .25, .25 ... .25, 0); \n",
    "    softmax(raw_dot_product_values) => raw_dot_product_values;"
   ]
  },
  {
   "cell_type": "markdown",
   "metadata": {},
   "source": [
    "Softmax : raises each input value exponentially and then divides by the layers sum. \n",
    "\n",
    "The higher the network predicts one value, the lower it predicts all others. That's the cool thing about it, given that it increases what is called 'sharpness of attenuation' - It encourages the output to predict with a very high probability."
   ]
  },
  {
   "cell_type": "code",
   "execution_count": null,
   "metadata": {},
   "outputs": [],
   "source": [
    "def softmax(input):\n",
    "    exponential_raise = np.exp(input)\n",
    "    return exponential_raise / np.sum(exponential_raise);\n",
    "\n",
    "def softmax2deriv(output, binary_goal_pred):\n",
    "    tmp = output - binary_goal_pred;\n",
    "    return tmp / len(binary_goal_pred)\n",
    "\n",
    "input = range(-10, 10);\n",
    "output = softmax(list(input));\n",
    "true = np.zeros(output.shape)\n",
    "true[16] = 1;\n",
    "deriv = softmax2deriv(output, true);\n",
    "\n",
    "plt.plot(input, output);\n",
    "plt.plot(output, deriv);"
   ]
  },
  {
   "cell_type": "code",
   "execution_count": null,
   "metadata": {},
   "outputs": [],
   "source": [
    "def fun1(x):\n",
    "    return 10*x\n",
    "\n",
    "def fun2(x):\n",
    "    return 5*x+20\n",
    "\n",
    "MAX_X = 100# A maximum value for x goes here \n",
    "x = range(MAX_X);\n",
    "\n",
    "y1,y2 = zip(*[ (fun1(val), fun2(val)) for val in range(MAX_X) ])\n",
    "plt.plot(x, y1)\n",
    "plt.plot(x, y2)\n",
    "plt.ylabel('some numbers')\n",
    "plt.show()"
   ]
  }
 ],
 "metadata": {
  "kernelspec": {
   "display_name": "Python 3",
   "language": "python",
   "name": "python3"
  },
  "language_info": {
   "codemirror_mode": {
    "name": "ipython",
    "version": 3
   },
   "file_extension": ".py",
   "mimetype": "text/x-python",
   "name": "python",
   "nbconvert_exporter": "python",
   "pygments_lexer": "ipython3",
   "version": "3.5.2"
  }
 },
 "nbformat": 4,
 "nbformat_minor": 2
}
