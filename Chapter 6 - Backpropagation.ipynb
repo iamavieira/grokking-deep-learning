{
 "cells": [
  {
   "cell_type": "markdown",
   "metadata": {},
   "source": [
    "Matrix A * 10 == Matrix B - These matrices are scalar multiple of each other;"
   ]
  },
  {
   "cell_type": "markdown",
   "metadata": {},
   "source": [
    "Learn one streetlight:"
   ]
  },
  {
   "cell_type": "code",
   "execution_count": 76,
   "metadata": {},
   "outputs": [
    {
     "name": "stdout",
     "output_type": "stream",
     "text": [
      "Pred: 0.4909656287910874 Error: 0.24104724865422783\n",
      "Pred: 0.3927725030328699 Error: 0.1542702391387058\n",
      "Pred: 0.31421800242629594 Error: 0.09873295304877172\n",
      "Pred: 0.2513744019410368 Error: 0.06318908995121392\n",
      "Pred: 0.2010995215528294 Error: 0.040441017568776896\n",
      "Pred: 0.16087961724226352 Error: 0.02588225124401721\n",
      "Pred: 0.1287036937938108 Error: 0.016564640796171013\n",
      "Pred: 0.10296295503504865 Error: 0.010601370109549452\n",
      "Pred: 0.0823703640280389 Error: 0.0067848768701116455\n",
      "Pred: 0.06589629122243112 Error: 0.004342321196871454\n",
      "Pred: 0.05271703297794491 Error: 0.002779085565997731\n",
      "Pred: 0.042173626382355923 Error: 0.0017786147622385476\n",
      "Pred: 0.03373890110588474 Error: 0.0011383134478326706\n",
      "Pred: 0.026991120884707794 Error: 0.0007285206066129092\n",
      "Pred: 0.021592896707766235 Error: 0.0004662531882322619\n",
      "Pred: 0.017274317366212988 Error: 0.0002984020404686476\n",
      "Pred: 0.013819453892970388 Error: 0.0001909773058999344\n",
      "Pred: 0.011055563114376311 Error: 0.00012222547577595805\n",
      "Pred: 0.00884445049150105 Error: 7.822430449661317e-05\n",
      "Pred: 0.00707556039320084 Error: 5.006355487783242e-05\n",
      "Pred: 0.005660448314560673 Error: 3.204067512181276e-05\n",
      "Pred: 0.004528358651648537 Error: 2.0506032077960154e-05\n",
      "Pred: 0.0036226869213188285 Error: 1.3123860529894491e-05\n",
      "Pred: 0.002898149537055063 Error: 8.399270739132475e-06\n",
      "Pred: 0.0023185196296440502 Error: 5.375533273044784e-06\n",
      "Pred: 0.0018548157037152416 Error: 3.440341294748667e-06\n",
      "Pred: 0.0014838525629721922 Error: 2.2018184286391437e-06\n",
      "Pred: 0.001187082050377753 Error: 1.4091637943290502e-06\n",
      "Pred: 0.0009496656403022025 Error: 9.018648283705922e-07\n",
      "Pred: 0.000759732512241762 Error: 5.77193490157179e-07\n",
      "Pred: 0.0006077860097934082 Error: 3.6940383370059286e-07\n",
      "Pred: 0.00048622880783472794 Error: 2.3641845356838078e-07\n",
      "Pred: 0.00038898304626778374 Error: 1.513078102837648e-07\n",
      "Pred: 0.0003111864370142284 Error: 9.683699858161033e-08\n",
      "Pred: 0.0002489491496113841 Error: 6.19756790922313e-08\n",
      "Pred: 0.00019915931968910588 Error: 3.966443461902748e-08\n",
      "Pred: 0.0001593274557512847 Error: 2.5385238156177588e-08\n",
      "Pred: 0.00012746196460102638 Error: 1.6246552419953303e-08\n",
      "Pred: 0.0001019695716808211 Error: 1.0397793548770113e-08\n",
      "Pred: 8.157565734465827e-05 Error: 6.654587871213099e-09\n"
     ]
    }
   ],
   "source": [
    "import numpy as np;\n",
    "\n",
    "alpha = .1\n",
    "weight = np.random.rand(3);\n",
    "#The streetlight pattern;\n",
    "streetlight = np.array([ [1, 0, 1],\n",
    "                         [0, 1, 1], \n",
    "                         [0, 0, 1],\n",
    "                         [1, 1, 1],\n",
    "                         [0, 1, 1],\n",
    "                         [1, 0, 1] ])[0];\n",
    "\n",
    "#1 means walk, 0 means stop;\n",
    "# lossless representation: \n",
    "# >can perfectly convert back and forth between \n",
    "# >our stop/walk notes and our matrix;\n",
    "goal_pred = np.array([ 0, 1, 0, 1, 1, 0 ])[0];\n",
    "\n",
    "\n",
    "def neural_network_train(input, weight):\n",
    "    for i in range(40):  \n",
    "        pred = input.dot(weight);\n",
    "        msquared_error = np.subtract(pred, goal_pred) ** 2;\n",
    "        delta = np.subtract(pred, goal_pred);\n",
    "        weight_delta = delta * input;\n",
    "        weight = np.subtract(weight, (weight_delta * alpha));\n",
    "        print('Pred: ' + str(pred) + ' Error: ' + str(msquared_error)); \n",
    "\n",
    "    \n",
    "neural_network_train(streetlight, weight);\n",
    "# random_v3c = np.random.rand(6);\n",
    "# print('rand: ' + str(random_v3c) + ' goal: ' + str(goal_pred.shape));\n",
    "# sub = random_v3c - goal_pred;\n",
    "# print(sub);"
   ]
  },
  {
   "cell_type": "markdown",
   "metadata": {},
   "source": [
    "The true stochastic gradient descent:\n",
    ">Updating weights one example at a time."
   ]
  },
  {
   "cell_type": "code",
   "execution_count": 77,
   "metadata": {},
   "outputs": [
    {
     "name": "stdout",
     "output_type": "stream",
     "text": [
      "Error: 0.4909367711906467\n",
      "Error: 0.09506157510158801\n",
      "Error: 0.03506185560222166\n",
      "Error: 0.01970119927247555\n",
      "Error: 0.012572234136674881\n",
      "Error: 0.008289761009438804\n",
      "Error: 0.005546605839476934\n",
      "Error: 0.003760631628228703\n",
      "Error: 0.0025886190946592114\n",
      "Error: 0.0018135509195226387\n",
      "Error: 0.0012961708469735934\n",
      "Error: 0.0009467766441911767\n",
      "Error: 0.0007074660869526818\n",
      "Error: 0.0005407822600937837\n",
      "Error: 0.00042242717437453343\n",
      "Error: 0.00033658159288020996\n",
      "Error: 0.0002728972149511946\n",
      "Error: 0.000224562528316185\n",
      "Error: 0.0001870581717801376\n",
      "Error: 0.00015735523490988405\n",
      "Error: 0.00013339820269256953\n",
      "Error: 0.00011377091043278257\n",
      "Error: 9.748023969382011e-05\n",
      "Error: 8.381562953136704e-05\n",
      "Error: 7.225746320531676e-05\n",
      "Error: 6.24170123802805e-05\n",
      "Error: 5.399679959636332e-05\n",
      "Error: 4.6764208430940945e-05\n",
      "Error: 4.053372058618487e-05\n",
      "Error: 3.5154798016837374e-05\n",
      "Error: 3.050348215536159e-05\n",
      "Error: 2.647646055499599e-05\n",
      "Error: 2.2986788188436515e-05\n",
      "Error: 1.996073245378486e-05\n",
      "Error: 1.733539302685231e-05\n",
      "Error: 1.5056865623252774e-05\n",
      "Error: 1.3078795339917478e-05\n",
      "Error: 1.1361215213351438e-05\n",
      "Error: 9.869598398143545e-06\n",
      "Error: 8.574074004176235e-06\n",
      "Weight: [0.2291386  0.96699305 0.26182703]\n"
     ]
    }
   ],
   "source": [
    "goal_pred = np.array([ 0, 1, 0, 1, 1, 0 ]);\n",
    "streetlight = np.array([ [1, 0, 1],\n",
    "                         [0, 1, 1], \n",
    "                         [0, 0, 1],\n",
    "                         [1, 1, 1],\n",
    "                         [0, 1, 1],\n",
    "                         [1, 0, 1] ]);\n",
    "\n",
    "def neural_network(input, weight):\n",
    "    for interaction in range(40):\n",
    "        error_for_all_lights = 0;\n",
    "        for index in range(len(goal_pred)):\n",
    "            pred = input[index].dot(weight);\n",
    "            msquared_error = (pred - goal_pred[index]) ** 2\n",
    "            error_for_all_lights += msquared_error;\n",
    "            delta = pred - goal_pred[index];\n",
    "            weight_delta = input[index] * delta;\n",
    "            weight = np.subtract(weight, (weight_delta * alpha));\n",
    "        \n",
    "        print('Error: ' + str(error_for_all_lights));\n",
    "    \n",
    "\n",
    "neural_network(streetlight, weight);\n",
    "print('Weight: ' + str(weight));"
   ]
  },
  {
   "cell_type": "markdown",
   "metadata": {},
   "source": [
    "Neural networks can learn correlation:\n",
    "> In the previous example the network indentified correlation between the middle input and the output;\n",
    "The Correlation is located whatever the weights were set to higher numbers - Signal;\n",
    "Inversely, _randomness_ with respect to the output was found at the far left and far right weights(where the weight values are near to 0). - Noise;\n"
   ]
  },
  {
   "cell_type": "markdown",
   "metadata": {},
   "source": [
    "Cross comunication between neurons occurs by sharing the same error measurement.\n",
    ">This lead us to think that our weight update is nothing more than taking this shared error measument\n",
    "and multiplying it by each respective input."
   ]
  },
  {
   "cell_type": "markdown",
   "metadata": {},
   "source": [
    "Full Gradient Descent: \n",
    ">Updating weights one dataset at a time;"
   ]
  },
  {
   "cell_type": "markdown",
   "metadata": {},
   "source": [
    "Batch Gradient Descent:\n",
    ">Updating weights after 'n' examples;"
   ]
  }
 ],
 "metadata": {
  "kernelspec": {
   "display_name": "Python 3",
   "language": "python",
   "name": "python3"
  },
  "language_info": {
   "codemirror_mode": {
    "name": "ipython",
    "version": 3
   },
   "file_extension": ".py",
   "mimetype": "text/x-python",
   "name": "python",
   "nbconvert_exporter": "python",
   "pygments_lexer": "ipython3",
   "version": "3.6.5"
  }
 },
 "nbformat": 4,
 "nbformat_minor": 2
}
