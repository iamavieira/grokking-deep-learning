{
 "cells": [
  {
   "cell_type": "markdown",
   "metadata": {},
   "source": [
    "Implememt new neural network learning code i.e. nonlinearity\n",
    "and backpropagation "
   ]
  },
  {
   "cell_type": "code",
   "execution_count": 5,
   "metadata": {},
   "outputs": [
    {
     "name": "stdout",
     "output_type": "stream",
     "text": [
      "[[-0.16595599  0.44064899 -0.99977125 -0.39533485 -0.70648822 -0.81532281\n",
      "  -0.62747958]\n",
      " [-0.30887855 -0.20646505  0.07763347 -0.16161097  0.370439   -0.5910955\n",
      "   0.75623487]\n",
      " [-0.94522481  0.34093502 -0.1653904   0.11737966 -0.71922612 -0.60379702\n",
      "   0.60148914]\n",
      " [ 0.93652315 -0.37315164  0.38464523  0.7527783   0.78921333 -0.82991158\n",
      "  -0.92189043]]\n",
      "error: [[0.19104469]]\n",
      "error: [[0.11171086]]\n",
      "error: [[0.06799708]]\n",
      "error: [[0.04027727]]\n",
      "error: [[0.02655213]]\n",
      "error: [[0.01738142]]\n",
      "error: [[0.01125199]]\n",
      "error: [[0.00722614]]\n",
      "error: [[0.00461734]]\n",
      "error: [[0.00293513]]\n"
     ]
    }
   ],
   "source": [
    "import numpy as np;\n",
    "\n",
    "np.random.seed(1);\n",
    "\n",
    "alpha = .02;\n",
    "\n",
    "streetlights = np.array([ [1, 0, 1, 0],\n",
    "                          [0, 0, 0, 1],\n",
    "                          [0, 1, 1, 0],\n",
    "                          [1, 1, 1, 0],\n",
    "                          [1, 1, 0, 0],\n",
    "                          [1, 0, 0, 1],\n",
    "                          [0, 0, 0, 1] ]);\n",
    "\n",
    "hidden_size = len(streetlights);\n",
    "\n",
    "walk_vs_stop = np.array([1, 0, 1, 1, 0, 0, 0]);\n",
    "\n",
    "#The sha[e of the first synapse is input dataset transpose;\n",
    "synapse_0 = 2 * np.random.random((4, hidden_size)) - 1;\n",
    "print(synapse_0);\n",
    "synapse_1 = 2 * np.random.random((hidden_size, 1)) - 1;\n",
    "\n",
    "def relu(x): \n",
    "    return (x > 0) * x;\n",
    "\n",
    "def relu2deriv(x):\n",
    "    return (x > 0);\n",
    "\n",
    "for interaction in range(100):\n",
    "    msquared_error_layer_2 = 0;\n",
    "    for index in range(len(streetlights)):\n",
    "        layer_0 = streetlights[index:index+1];\n",
    "        layer_1 = relu(layer_0.dot(synapse_0));\n",
    "        layer_2 = layer_1.dot(synapse_1);\n",
    "        \n",
    "        msquared_error_layer_2 += np.subtract(\n",
    "                    layer_2, walk_vs_stop[index:index+1]) ** 2;\n",
    "        \n",
    "        layer_2_delta = np.subtract(\n",
    "                    layer_2, walk_vs_stop[index:index+1]);\n",
    "        \n",
    "        layer_1_delta = layer_2_delta.dot(synapse_1.T) * relu2deriv(layer_1);\n",
    "        \n",
    "        layer_2_weight_delta = layer_1.T.dot(layer_2_delta);\n",
    "        \n",
    "        layer_1_weight_delta = layer_0.T.dot(layer_1_delta);\n",
    "        \n",
    "        synapse_1 = np.subtract(synapse_1, (layer_2_weight_delta * alpha));\n",
    "        synapse_0 = np.subtract(synapse_0, (layer_1_weight_delta * alpha));\n",
    "    \n",
    "    if(interaction % 10 == 9): \n",
    "        print('error: ' + str(msquared_error_layer_2));\n",
    "    "
   ]
  }
 ],
 "metadata": {
  "kernelspec": {
   "display_name": "Python 3",
   "language": "python",
   "name": "python3"
  },
  "language_info": {
   "codemirror_mode": {
    "name": "ipython",
    "version": 3
   },
   "file_extension": ".py",
   "mimetype": "text/x-python",
   "name": "python",
   "nbconvert_exporter": "python",
   "pygments_lexer": "ipython3",
   "version": "3.6.5"
  }
 },
 "nbformat": 4,
 "nbformat_minor": 2
}
