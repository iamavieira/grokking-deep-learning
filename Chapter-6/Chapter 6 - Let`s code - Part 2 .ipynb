{
 "cells": [
  {
   "cell_type": "code",
   "execution_count": 36,
   "metadata": {},
   "outputs": [
    {
     "name": "stdout",
     "output_type": "stream",
     "text": [
      "Weights_0_1: [[-0.16595599  0.44064899 -0.99977125 -0.39533485]\n",
      " [-0.70648822 -0.81532281 -0.62747958 -0.30887855]\n",
      " [-0.20646505  0.07763347 -0.16161097  0.370439  ]]\n",
      "Weights_1_2: [[-0.5910955 ]\n",
      " [ 0.75623487]\n",
      " [-0.94522481]\n",
      " [ 0.34093502]]\n"
     ]
    }
   ],
   "source": [
    "import numpy as np\n",
    "\n",
    "#Hyperparameters\n",
    "np.random.seed(1);\n",
    "hidden_size = 4;\n",
    "alpha = .2;\n",
    "\n",
    "#two datasets\n",
    "#input\n",
    "streetlights = np.array([ [1, 0, 1],\n",
    "                          [0, 1, 1],\n",
    "                          [0, 0, 1],\n",
    "                          [1, 1, 1] ]);\n",
    "\n",
    "#output \n",
    "walk_vs_stop = np.array([ [1, 0, 0, 0] ]).T\n",
    "\n",
    "#two sets of weights now to connect our 3 layers\n",
    "weights_0_1 = 2 * np.random.random((3, hidden_size)) - 1;\n",
    "weights_1_2 = 2 * np.random.random((hidden_size, 1)) - 1;\n",
    "\n",
    "print('Weights_0_1: ' + str(weights_0_1));\n",
    "print('Weights_1_2: ' + str(weights_1_2));"
   ]
  },
  {
   "cell_type": "code",
   "execution_count": 37,
   "metadata": {},
   "outputs": [
    {
     "name": "stdout",
     "output_type": "stream",
     "text": [
      "[-0.          0.51828245 -0.         -0.        ]\n"
     ]
    }
   ],
   "source": [
    "#this function sets all negative numbers to zero;\n",
    "def relu(x):\n",
    "    #it returns true or false, as well the number that \n",
    "    #represent these states i.e. 0 and 1;\n",
    "    #value = (x > 0) * x; here, if it's true 1 * x otherwise 0 * x;  \n",
    "    value = (x > 0) * x; \n",
    "    print(value);\n",
    "    return value;\n",
    "\n",
    "#defining layers\n",
    "layer_0 = streetlights[0];\n",
    "layer_1 = relu(np.dot(layer_0, weights_0_1));\n",
    "layer_2 = layer_1.dot(weights_1_2);\n"
   ]
  },
  {
   "cell_type": "markdown",
   "metadata": {},
   "source": [
    "Weighted sums are made into the nodes. For each node at layer_1 we perform a weighted sum. \n",
    "These weighted sums are then passed through  the 'relu' funtion, having all negative values converted to zero.\n",
    "A last weighted sum is then performed into the final node at layer 2."
   ]
  },
  {
   "cell_type": "markdown",
   "metadata": {},
   "source": [
    "**IT'S TIME** - How can we learn the amount that each weight contributed to the error? Backpropagation in code."
   ]
  },
  {
   "cell_type": "markdown",
   "metadata": {},
   "source": [
    "Trask`s implementation"
   ]
  },
  {
   "cell_type": "code",
   "execution_count": 17,
   "metadata": {},
   "outputs": [
    {
     "name": "stdout",
     "output_type": "stream",
     "text": [
      "1.8390795897661154\n",
      "1.522072628622572\n",
      "1.1694724928761628\n",
      "0.8200398861278977\n",
      "0.5165262999600365\n",
      "0.2854692601351393\n",
      "0.13633116731378556\n",
      "0.06243663766974852\n",
      "0.035795291447499954\n",
      "0.0225513771582185\n",
      "0.014934818159227016\n",
      "0.010363612983765178\n",
      "0.007515982169612798\n",
      "0.00565867212005207\n",
      "0.004386081315560989\n",
      "0.003473497756071608\n",
      "0.0027938252555310106\n",
      "0.002272465783068901\n",
      "0.0018635384495262067\n",
      "0.0015360301647734567\n",
      "0.0012657390981873325\n",
      "0.001043818937043569\n",
      "0.0008615275019003206\n",
      "0.0007115169082963341\n",
      "0.0005878634616771964\n",
      "0.00048580887499406625\n",
      "0.00040150934723822557\n",
      "0.0003318391958344601\n",
      "0.0002742426129146656\n",
      "0.0002266210551530788\n",
      "0.00018724629413415783\n",
      "0.00015469214088359716\n",
      "0.00012778005193291847\n",
      "0.00010553529094451685\n",
      "8.71512845486927e-05\n",
      "7.19604514026755e-05\n",
      "5.941021716414744e-05\n",
      "4.9043229287584475e-05\n",
      "4.048100063243699e-05\n",
      "3.341036880983246e-05\n",
      "2.757227728949398e-05\n",
      "2.2752476245449823e-05\n",
      "1.8773813556288992e-05\n",
      "1.5489844362367345e-05\n",
      "1.2779534579898864e-05\n",
      "1.0542872213782378e-05\n",
      "8.697231960927488e-06\n",
      "7.174364770773988e-06\n",
      "5.917905739853903e-06\n",
      "4.881311756490597e-06\n",
      "4.02615531503743e-06\n",
      "3.3207134024593036e-06\n",
      "2.7388007467649354e-06\n",
      "2.258805356901407e-06\n",
      "1.8628914679955827e-06\n",
      "1.53634097655187e-06\n",
      "1.2670094097599313e-06\n",
      "1.044876590259992e-06\n",
      "8.616755738279004e-07\n",
      "7.105862702721605e-07\n"
     ]
    }
   ],
   "source": [
    "import numpy as np\n",
    "\n",
    "np.random.seed(1);\n",
    "\n",
    "alpha = .2;\n",
    "hidden_size = 4;\n",
    "\n",
    "weights_0_1 = 2 * np.random.random((3, hidden_size)) - 1;\n",
    "weights_1_2 = 2 * np.random.random((hidden_size, 1)) - 1;\n",
    "\n",
    "def relu(x):\n",
    "    return (x > 0) * x;\n",
    "\n",
    "def relu2deriv(output):\n",
    "    return output > 0;\n",
    "\n",
    "for interaction in range(60):\n",
    "    msquared_error_layer_2 = 0;\n",
    "    for index in range(len(streetlights)):\n",
    "        layer_0 = streetlights[index:index+1];\n",
    "        layer_1 = relu(layer_0.dot(weights_0_1));\n",
    "        layer_2 = layer_1.dot(weights_1_2);\n",
    "       \n",
    "        msquared_error_layer_2 += np.sum((layer_2 - walk_vs_stop[index:index+1]) ** 2);\n",
    "#         msquared_error_layer_2_sum += (np.sum(layer_2 - walk_vs_stop[index:index+1]) ** 2)\n",
    "#         print(msquared_error_layer_2_sum);what trask did, his gave a value, mine a matrix.\n",
    "        layer_2_delta = np.subtract(walk_vs_stop[index: index + 1], layer_2);\n",
    "        layer_1_delta = layer_2_delta.dot(weights_1_2.T) * relu2deriv(layer_1);\n",
    "    \n",
    "        layer_2_weight_delta = layer_1.T.dot(layer_2_delta); \n",
    "        layer_1_weight_delta = layer_0.T.dot(layer_1_delta);\n",
    "        \n",
    "        weights_1_2 += layer_2_weight_delta * alpha;\n",
    "        weights_0_1 += layer_1_weight_delta * alpha;\n",
    "    \n",
    "    print(msquared_error_layer_2);\n",
    "    "
   ]
  },
  {
   "cell_type": "code",
   "execution_count": 39,
   "metadata": {},
   "outputs": [
    {
     "name": "stdout",
     "output_type": "stream",
     "text": [
      "[[-0.          0.28758997 -0.         -0.        ]]\n",
      "[[-0.         -0.         -0.          0.01231209]]\n",
      "[[-0.          0.10749343 -0.          0.0740878 ]]\n",
      "[[-0.          0.12452541 -0.         -0.        ]]\n",
      "<class 'list'>\n",
      "<class 'numpy.ndarray'>\n"
     ]
    }
   ],
   "source": [
    "#random area for testing\n",
    "for index in range(len(streetlights)):\n",
    "        layer_0 = streetlights[index : index + 1];\n",
    "        layer_1 = relu(layer_0.dot(weights_0_1));\n",
    "        print(layer_1);\n",
    "        \n",
    "\n",
    "some_array = [0, 2, 4, 6];\n",
    "print(type(some_array));\n",
    "some_array = np.array(some_array);\n",
    "print(type(some_array));"
   ]
  },
  {
   "cell_type": "markdown",
   "metadata": {},
   "source": [
    "My implementation"
   ]
  },
  {
   "cell_type": "code",
   "execution_count": 2,
   "metadata": {},
   "outputs": [
    {
     "name": "stdout",
     "output_type": "stream",
     "text": [
      "1\n",
      "layer_2_error: [[0.02255138]]\n",
      "1\n",
      "layer_2_error: [[0.00153603]]\n",
      "1\n",
      "layer_2_error: [[0.00022662]]\n",
      "1\n",
      "layer_2_error: [[3.34103688e-05]]\n",
      "1\n",
      "layer_2_error: [[4.88131176e-06]]\n",
      "1\n",
      "layer_2_error: [[7.1058627e-07]]\n"
     ]
    }
   ],
   "source": [
    "import numpy as np\n",
    "\n",
    "np.random.seed(1);\n",
    "\n",
    "hidden_size = 4;\n",
    "alpha = .2;\n",
    "streetlights = np.array([ [0, 1, 1],\n",
    "                          [1, 0, 1],\n",
    "                          [0, 0, 1],\n",
    "                          [1, 1, 1] ]);\n",
    "\n",
    "walk_vs_stop = np.array([ 1, 0, 1, 0]);\n",
    "\n",
    "synapse_0 = 2 * np.random.random((3, hidden_size)) - 1;\n",
    "synapse_1 = 2 * np.random.random((hidden_size, 1)) - 1;\n",
    "\n",
    "def relu(x):\n",
    "    return (x > 0) * x;\n",
    "\n",
    "#The slope of our relu function;\n",
    "def relu2deriv(x):\n",
    "    return (x > 0);\n",
    "\n",
    "for interaction in range(60):\n",
    "    layer_2_error = 0;\n",
    "    for index in range(len(streetlights)):\n",
    "        \n",
    "        layer_0 = streetlights[index:index+1];\n",
    "        layer_1 = relu(layer_0.dot(synapse_0));\n",
    "        layer_2 = layer_1.dot(synapse_1);\n",
    "        \n",
    "        msquared_error_layer_2 = np.subtract(\n",
    "                layer_2, walk_vs_stop[index:index+1]) ** 2;\n",
    "        \n",
    "        layer_2_error += msquared_error_layer_2;\n",
    "        \n",
    "        layer_2_delta = np.subtract(layer_2,\n",
    "                                    walk_vs_stop[index:index+1]);\n",
    "        layer_1_delta = layer_2_delta.dot(synapse_1.T) * relu2deriv(layer_1);\n",
    "    \n",
    "        weight_delta_synapse_1 = np.dot(layer_2_delta, layer_1).T;\n",
    "        weight_delta_synapse_0 = np.dot(layer_0.T, layer_1_delta);\n",
    "        \n",
    "        synapse_1 = np.subtract(synapse_1, weight_delta_synapse_1 * alpha);\n",
    "        synapse_0 = np.subtract(synapse_0, weight_delta_synapse_0 * alpha);\n",
    "        #print('Mean squared error for each datapoint: ' + str(msquared_error_layer_2));\n",
    "    if (interaction % 10 == 9):\n",
    "        print(7 // 4);#weird\n",
    "        print('layer_2_error: ' + str(layer_2_error));\n",
    "    \n",
    "    \n"
   ]
  }
 ],
 "metadata": {
  "kernelspec": {
   "display_name": "Python 3",
   "language": "python",
   "name": "python3"
  },
  "language_info": {
   "codemirror_mode": {
    "name": "ipython",
    "version": 3
   },
   "file_extension": ".py",
   "mimetype": "text/x-python",
   "name": "python",
   "nbconvert_exporter": "python",
   "pygments_lexer": "ipython3",
   "version": "3.8.1"
  }
 },
 "nbformat": 4,
 "nbformat_minor": 4
}
