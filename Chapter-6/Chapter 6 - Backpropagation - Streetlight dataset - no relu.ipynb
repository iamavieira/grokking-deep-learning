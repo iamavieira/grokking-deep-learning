{
 "cells": [
  {
   "cell_type": "markdown",
   "metadata": {},
   "source": [
    "Matrix A * 10 == Matrix B - These matrices are scalar multiple of each other;"
   ]
  },
  {
   "cell_type": "markdown",
   "metadata": {},
   "source": [
    "Learn one streetlight:"
   ]
  },
  {
   "cell_type": "code",
   "execution_count": 3,
   "metadata": {},
   "outputs": [
    {
     "name": "stdout",
     "output_type": "stream",
     "text": [
      "(3,)\n",
      "Pred: 1.0346659708217696 Error: 1.070533671176555\n",
      "(3,)\n",
      "Pred: 0.8277327766574155 Error: 0.6851415495529949\n",
      "(3,)\n",
      "Pred: 0.6621862213259324 Error: 0.43849059171391674\n",
      "(3,)\n",
      "Pred: 0.529748977060746 Error: 0.28063397869690676\n",
      "(3,)\n",
      "Pred: 0.42379918164859676 Error: 0.1796057463660203\n",
      "(3,)\n",
      "Pred: 0.3390393453188774 Error: 0.11494767767425301\n",
      "(3,)\n",
      "Pred: 0.2712314762551019 Error: 0.07356651371152191\n",
      "(3,)\n",
      "Pred: 0.21698518100408154 Error: 0.04708256877537403\n",
      "(3,)\n",
      "Pred: 0.17358814480326523 Error: 0.030132844016239377\n",
      "(3,)\n",
      "Pred: 0.13887051584261223 Error: 0.019285020170393213\n",
      "(3,)\n",
      "Pred: 0.11109641267408982 Error: 0.012342412909051664\n",
      "(3,)\n",
      "Pred: 0.08887713013927184 Error: 0.007899144261793063\n",
      "(3,)\n",
      "Pred: 0.07110170411141747 Error: 0.0050554523275475605\n",
      "(3,)\n",
      "Pred: 0.05688136328913396 Error: 0.0032354894896304363\n",
      "(3,)\n",
      "Pred: 0.045505090631307143 Error: 0.0020707132733634773\n",
      "(3,)\n",
      "Pred: 0.03640407250504574 Error: 0.001325256494952627\n",
      "(3,)\n",
      "Pred: 0.02912325800403659 Error: 0.0008481641567696813\n",
      "(3,)\n",
      "Pred: 0.023298606403229227 Error: 0.000542825060332594\n",
      "(3,)\n",
      "Pred: 0.018638885122583382 Error: 0.00034740803861286015\n",
      "(3,)\n",
      "Pred: 0.014911108098066728 Error: 0.00022234114471223114\n",
      "(3,)\n",
      "Pred: 0.01192888647845336 Error: 0.0001422983326158274\n",
      "(3,)\n",
      "Pred: 0.009543109182762688 Error: 9.107093287412954e-05\n",
      "(3,)\n",
      "Pred: 0.007634487346210195 Error: 5.828539703944358e-05\n",
      "(3,)\n",
      "Pred: 0.006107589876968134 Error: 3.730265410524362e-05\n",
      "(3,)\n",
      "Pred: 0.004886071901574529 Error: 2.3873698627356134e-05\n",
      "(3,)\n",
      "Pred: 0.003908857521259579 Error: 1.527916712150758e-05\n",
      "(3,)\n",
      "Pred: 0.0031270860170076187 Error: 9.778666957764572e-06\n",
      "(3,)\n",
      "Pred: 0.0025016688136061394 Error: 6.258346852969549e-06\n",
      "(3,)\n",
      "Pred: 0.002001335050884956 Error: 4.005341985900689e-06\n",
      "(3,)\n",
      "Pred: 0.0016010680407079203 Error: 2.5634188709762986e-06\n",
      "(3,)\n",
      "Pred: 0.001280854432566314 Error: 1.6405880774247744e-06\n",
      "(3,)\n",
      "Pred: 0.0010246835460530068 Error: 1.0499763695517645e-06\n",
      "(3,)\n",
      "Pred: 0.0008197468368423833 Error: 6.719848765130929e-07\n",
      "(3,)\n",
      "Pred: 0.0006557974694738622 Error: 4.300703209683212e-07\n",
      "(3,)\n",
      "Pred: 0.000524637975579112 Error: 2.752450054197489e-07\n",
      "(3,)\n",
      "Pred: 0.00041971038046328957 Error: 1.7615680346863928e-07\n",
      "(3,)\n",
      "Pred: 0.00033576830437065386 Error: 1.1274035421994405e-07\n",
      "(3,)\n",
      "Pred: 0.0002686146434964787 Error: 7.215382670074034e-08\n",
      "(3,)\n",
      "Pred: 0.00021489171479716074 Error: 4.617844908846427e-08\n",
      "(3,)\n",
      "Pred: 0.0001719133718377508 Error: 2.955420741662477e-08\n"
     ]
    }
   ],
   "source": [
    "import numpy as np;\n",
    "\n",
    "alpha = .1\n",
    "weight = np.random.rand(3);\n",
    "#The streetlight pattern;\n",
    "streetlight = np.array([ [1, 0, 1],\n",
    "                         [0, 1, 1], \n",
    "                         [0, 0, 1],\n",
    "                         [1, 1, 1],\n",
    "                         [0, 1, 1],\n",
    "                         [1, 0, 1] ])[0];\n",
    "\n",
    "#1 means walk, 0 means stop;\n",
    "# lossless representation: \n",
    "# >can perfectly convert back and forth between \n",
    "# >our stop/walk notes and our matrix;\n",
    "goal_pred = np.array([ 0, 1, 0, 1, 1, 0 ])[0];\n",
    "\n",
    "\n",
    "def neural_network_train(input, weight):\n",
    "    for i in range(40):  \n",
    "        pred = input.dot(weight);\n",
    "        msquared_error = np.subtract(pred, goal_pred) ** 2;\n",
    "        delta = np.subtract(pred, goal_pred);\n",
    "        weight_delta = delta * input;\n",
    "        weight = np.subtract(weight, (weight_delta * alpha));\n",
    "        print('Pred: ' + str(pred) + ' Error: ' + str(msquared_error)); \n",
    "\n",
    "    \n",
    "neural_network_train(streetlight, weight);\n",
    "# random_v3c = np.random.rand(6);\n",
    "# print('rand: ' + str(random_v3c) + ' goal: ' + str(goal_pred.shape));\n",
    "# sub = random_v3c - goal_pred;\n",
    "# print(sub);"
   ]
  },
  {
   "cell_type": "markdown",
   "metadata": {},
   "source": [
    "The true stochastic gradient descent:\n",
    ">Updating weights one example at a time."
   ]
  },
  {
   "cell_type": "code",
   "execution_count": 82,
   "metadata": {},
   "outputs": [
    {
     "name": "stdout",
     "output_type": "stream",
     "text": [
      "Error: 3.730305340494171\n",
      "weight: [0.07673739 0.77978966 0.45485054]\n",
      "Error: 0.5981184906998862\n",
      "weight: [-0.02292345  0.7405257   0.29061231]\n",
      "Error: 0.1874839524049103\n",
      "weight: [-0.06271005  0.74817634  0.22488193]\n",
      "Error: 0.112847976471432\n",
      "weight: [-0.07971132  0.76885494  0.19378596]\n",
      "Error: 0.08549182765289387\n",
      "weight: [-0.08723094  0.79141408  0.17521421]\n",
      "Error: 0.0685827785316294\n",
      "weight: [-0.09025135  0.8124573   0.16149087]\n",
      "Error: 0.05622179062709259\n",
      "weight: [-0.09079835  0.83118054  0.14993022]\n",
      "Error: 0.046724610444712086\n",
      "weight: [-0.08981139  0.8476062   0.1395728 ]\n",
      "Error: 0.039238553403579735\n",
      "weight: [-0.08780305  0.86198648  0.13005749]\n",
      "Error: 0.033221282878768035\n",
      "weight: [-0.08509741  0.87460794  0.1212317 ]\n",
      "Error: 0.028305065695446472\n",
      "weight: [-0.08192086  0.88573274  0.11301654]\n",
      "Error: 0.024233681160426877\n",
      "weight: [-0.07844014  0.89558526  0.10536019]\n",
      "Error: 0.020824668227552395\n",
      "weight: [-0.07478088  0.90435316  0.0982217 ]\n",
      "Error: 0.017945185634029907\n",
      "weight: [-0.07103826  0.91219223  0.09156535]\n",
      "Error: 0.01549628378305603\n",
      "weight: [-0.06728415  0.91923168  0.08535857]\n",
      "Error: 0.013402555871650524\n",
      "weight: [-0.0635722   0.92557891  0.0795712 ]\n",
      "Error: 0.011605264653102708\n",
      "weight: [-0.0599419   0.93132352  0.07417513]\n",
      "Error: 0.010057727645647751\n",
      "weight: [-0.0564216   0.93654056  0.0691441 ]\n",
      "Error: 0.008722177768045495\n",
      "weight: [-0.05303098  0.94129319  0.06445359]\n",
      "Error: 0.007567593968447655\n",
      "weight: [-0.04978298  0.94563486  0.0600807 ]\n",
      "Error: 0.006568174592077303\n",
      "weight: [-0.04668535  0.94961103  0.05600403]\n",
      "Error: 0.005702240857395336\n",
      "weight: [-0.04374184  0.95326058  0.0522036 ]\n",
      "Error: 0.004951431682812936\n",
      "weight: [-0.04095315  0.95661695  0.04866078]\n",
      "Error: 0.0043000988066678025\n",
      "weight: [-0.03831774  0.95970907  0.04535815]\n",
      "Error: 0.0037348420163399064\n",
      "weight: [-0.03583237  0.96256211  0.04227949]\n",
      "Error: 0.0032441443441834175\n",
      "weight: [-0.0334926   0.96519811  0.03940964]\n",
      "Error: 0.0028180801492170234\n",
      "weight: [-0.03129316  0.96763644  0.03673446]\n",
      "Error: 0.0024480775589430454\n",
      "weight: [-0.0292282   0.96989423  0.03424078]\n",
      "Error: 0.0021267223867109416\n",
      "weight: [-0.02729154  0.97198672  0.03191631]\n",
      "Error: 0.0018475943909727077\n",
      "weight: [-0.02547685  0.97392752  0.02974957]\n",
      "Error: 0.0016051292635337116\n",
      "weight: [-0.02377774  0.97572885  0.02772987]\n",
      "Error: 0.0013945014502560174\n",
      "weight: [-0.02218788  0.9774017   0.02584726]\n",
      "Error: 0.0012115240948342156\n",
      "weight: [-0.02070107  0.97895602  0.02409242]\n",
      "Error: 0.0010525632325585324\n",
      "weight: [-0.01931128  0.98040085  0.0224567 ]\n",
      "Error: 0.0009144639623282759\n",
      "weight: [-0.01801271  0.9817444   0.02093201]\n",
      "Error: 0.0007944867672587587\n",
      "weight: [-0.0167998   0.98299419  0.01951083]\n",
      "Error: 0.0006902524867197009\n",
      "weight: [-0.01566722  0.98415708  0.01818612]\n",
      "Error: 0.0005996946984061653\n",
      "weight: [-0.01460993  0.98523938  0.01695135]\n",
      "Error: 0.0005210184699999438\n",
      "weight: [-0.01362314  0.98624689  0.0158004 ]\n",
      "Error: 0.0004526646009308609\n",
      "weight: [-0.0127023   0.98718494  0.01472759]\n",
      "Weight: [0.34182032 0.9660409  0.90231442]\n"
     ]
    }
   ],
   "source": [
    "goal_pred = np.array([ 0, 1, 0, 1, 1, 0 ]);\n",
    "streetlight = np.array([ [1, 0, 1],\n",
    "                         [0, 1, 1], \n",
    "                         [0, 0, 1],\n",
    "                         [1, 1, 1],\n",
    "                         [0, 1, 1],\n",
    "                         [1, 0, 1] ]);\n",
    "\n",
    "def neural_network(input, weight):\n",
    "    for interaction in range(40):\n",
    "        error_for_all_lights = 0;\n",
    "        for index in range(len(goal_pred)):\n",
    "            pred = input[index].dot(weight);\n",
    "            msquared_error = (pred - goal_pred[index]) ** 2\n",
    "            error_for_all_lights += msquared_error;\n",
    "            delta = pred - goal_pred[index];\n",
    "            weight_delta = input[index] * delta;\n",
    "            weight = np.subtract(weight, (weight_delta * alpha));\n",
    "        \n",
    "        print('Error: ' + str(error_for_all_lights));\n",
    "        print('weight: ' + str(weight));\n",
    "\n",
    "neural_network(streetlight, weight);\n",
    "print('Weight: ' + str(weight));"
   ]
  },
  {
   "cell_type": "markdown",
   "metadata": {},
   "source": [
    "Neural networks can learn correlation:\n",
    "> In the previous example the network indentified correlation between the middle input and the output;\n",
    "The Correlation is located whatever the weights were set to higher numbers - Signal;\n",
    "Inversely, _randomness_ with respect to the output was found at the far left and far right weights(where the weight values are near to 0). - Noise;\n"
   ]
  },
  {
   "cell_type": "markdown",
   "metadata": {},
   "source": [
    "Cross comunication between neurons occurs by sharing the same error measurement.\n",
    ">This lead us to think that our weight update is nothing more than taking this shared error measument\n",
    "and multiplying it by each respective input."
   ]
  },
  {
   "cell_type": "markdown",
   "metadata": {},
   "source": [
    "Full Gradient Descent: \n",
    ">Updating weights one dataset at a time;"
   ]
  },
  {
   "cell_type": "markdown",
   "metadata": {},
   "source": [
    "Batch Gradient Descent:\n",
    ">Updating weights after 'n' examples;"
   ]
  },
  {
   "cell_type": "markdown",
   "metadata": {},
   "source": [
    "**Backpropagation: Long distance error attribuition**\n",
    "\n",
    "The \"weighted average error\"\n",
    "\n",
    "Bottom line: Trask use the fact that we want to know how to calculate delta to our lower layer(layer_0 to layer_1), in a way that these values can  help our upper layer(layer_2) to predict accurately."
   ]
  },
  {
   "cell_type": "markdown",
   "metadata": {},
   "source": [
    "\"moving delta signal around\" - weighted average delta."
   ]
  }
 ],
 "metadata": {
  "kernelspec": {
   "display_name": "Python 3",
   "language": "python",
   "name": "python3"
  },
  "language_info": {
   "codemirror_mode": {
    "name": "ipython",
    "version": 3
   },
   "file_extension": ".py",
   "mimetype": "text/x-python",
   "name": "python",
   "nbconvert_exporter": "python",
   "pygments_lexer": "ipython3",
   "version": "3.6.5"
  }
 },
 "nbformat": 4,
 "nbformat_minor": 2
}
