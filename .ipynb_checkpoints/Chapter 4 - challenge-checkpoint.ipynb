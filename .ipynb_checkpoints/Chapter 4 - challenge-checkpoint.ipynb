{
 "cells": [
  {
   "cell_type": "markdown",
   "metadata": {},
   "source": [
    "The example that I followed to plot using matplolib."
   ]
  },
  {
   "cell_type": "code",
   "execution_count": 1,
   "metadata": {},
   "outputs": [
    {
     "data": {
      "text/plain": [
       "[<matplotlib.lines.Line2D at 0x7f8a7ecb00>]"
      ]
     },
     "execution_count": 1,
     "metadata": {},
     "output_type": "execute_result"
    }
   ],
   "source": [
    "import matplotlib.pyplot as plt\n",
    "import numpy as np\n",
    "\n",
    "x = np.arange(5)\n",
    "y = np.exp(x)\n",
    "fig1, ax1 = plt.subplots()\n",
    "ax1.plot(x, y)\n",
    "ax1.set_title(\"Axis 1 title\")\n",
    "ax1.set_xlabel(\"X-label for axis 1\")\n",
    "\n",
    "z = np.sin(x)\n",
    "fig2, (ax2, ax3) = plt.subplots(nrows=2, ncols=1) # two axes on figure\n",
    "ax2.plot(x, z)\n",
    "ax3.plot(x, -z)\n",
    "\n",
    "w = np.cos(x)\n",
    "ax1.plot(x, w) # can continue plotting on the first axis"
   ]
  }
 ],
 "metadata": {
  "kernelspec": {
   "display_name": "Python 3",
   "language": "python",
   "name": "python3"
  },
  "language_info": {
   "codemirror_mode": {
    "name": "ipython",
    "version": 3
   },
   "file_extension": ".py",
   "mimetype": "text/x-python",
   "name": "python",
   "nbconvert_exporter": "python",
   "pygments_lexer": "ipython3",
   "version": "3.6.5"
  }
 },
 "nbformat": 4,
 "nbformat_minor": 2
}
