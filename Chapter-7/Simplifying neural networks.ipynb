{
 "cells": [
  {
   "cell_type": "markdown",
   "metadata": {},
   "source": [
    "The sum total of the neurons , gradients, stack of layers and so on lead to a single idea: \n",
    "    **neural networks find and create correlation**"
   ]
  },
  {
   "cell_type": "markdown",
   "metadata": {},
   "source": [
    "Just markdown:\n",
    "\\begin{equation*}\n",
    "l_2 = relu(l_0W_0)W_1;\n",
    "\\\\or\n",
    "\\end{equation*}\n",
    "\n",
    "within a text paragraph $l_2 = relu(l_0W_0)W_1;$ - latex inline equation."
   ]
  },
  {
   "cell_type": "markdown",
   "metadata": {},
   "source": [
    "Anyway, this formula$(l_2= relu(l_0W_0)W_1)$ represents our entire network in one function. All the logic in our forward propagation step is contained on it."
   ]
  },
  {
   "cell_type": "markdown",
   "metadata": {},
   "source": [
    "**Algebra formula:**\n",
    "\n",
    "$l_2 = relu(l_0W_0)W_1$\n",
    "\n",
    "**Python code:**\n",
    "\n",
    "layer_2 = np.dot(relu(np.dot(layer_0, synapse_0)), synapse_1);\n",
    "\n",
    "OR \n",
    "\n",
    "layer_2 = relu(layer_0.dot(synapse_0)).dot(synapse_1);\n",
    "\n",
    "**Visualization:**\n",
    "\n",
    "<img src=\"forward_propagation.png\" width=\"60\" height=\"60\">\n",
    "\n",
    "\n"
   ]
  },
  {
   "cell_type": "code",
   "execution_count": null,
   "metadata": {},
   "outputs": [],
   "source": []
  }
 ],
 "metadata": {
  "kernelspec": {
   "display_name": "Python 3",
   "language": "python",
   "name": "python3"
  },
  "language_info": {
   "codemirror_mode": {
    "name": "ipython",
    "version": 3
   },
   "file_extension": ".py",
   "mimetype": "text/x-python",
   "name": "python",
   "nbconvert_exporter": "python",
   "pygments_lexer": "ipython3",
   "version": "3.8.1"
  }
 },
 "nbformat": 4,
 "nbformat_minor": 4
}
