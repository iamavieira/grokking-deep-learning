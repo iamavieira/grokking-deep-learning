{
 "cells": [
  {
   "cell_type": "markdown",
   "metadata": {},
   "source": [
    "Just markdown:\n",
    "\\begin{equation*}\n",
    "l_2 = relu(l_0W_0)W_1;\n",
    "\\end{equation*}\n",
    "\\begin{equation*}\n",
    "or\n",
    "\\end{equation*}\n",
    "\n",
    "\n",
    "within a text paragraph $l_2 = relu(l_0W_0)W_1;$ - TeX inline equation."
   ]
  },
  {
   "cell_type": "markdown",
   "metadata": {},
   "source": [
    "Anyway, this formula$(l_2= relu(l_0W_0)W_1)$ represents our entire network in one function. All the logic in our forward propagation step is contained on it."
   ]
  },
  {
   "cell_type": "markdown",
   "metadata": {},
   "source": [
    "**Algebra formula:**\n",
    "\n",
    "$l_2 = relu(l_0W_0)W_1$\n",
    "\n",
    "**Python code:**\n",
    "\n",
    "layer_2 = np.dot(relu(np.dot(layer_0, synapse_0)), synapse_1);\n",
    "\n",
    "OR \n",
    "\n",
    "layer_2 = relu(layer_0.dot(synapse_0)).dot(synapse_1);\n",
    "\n",
    "**Visualization:**\n",
    "\n",
    "<img src=\"forward_propagation.png\"></img>\n",
    "\n",
    "\n"
   ]
  }
 ],
 "metadata": {
  "kernelspec": {
   "display_name": "Python 3",
   "language": "python",
   "name": "python3"
  },
  "language_info": {
   "codemirror_mode": {
    "name": "ipython",
    "version": 3
   },
   "file_extension": ".py",
   "mimetype": "text/x-python",
   "name": "python",
   "nbconvert_exporter": "python",
   "pygments_lexer": "ipython3",
   "version": "3.5.2"
  }
 },
 "nbformat": 4,
 "nbformat_minor": 2
}
