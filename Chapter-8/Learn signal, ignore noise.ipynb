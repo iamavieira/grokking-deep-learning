{
 "cells": [
  {
   "cell_type": "markdown",
   "metadata": {},
   "source": [
    "Regulatization:\n",
    "Forces weights with conflicting pressure to move towards 0.\n",
    "\n",
    "'Only weights with strong correlation can stay on, everything else should be silenced because is contributing noise.'\n",
    "\n",
    "\"Two of the most widely used methods for increasing accuracy and training speed of almost any neural network\".\n",
    "\n",
    "He is talking about dropout and mini-batch stochastic gradient descent.\n",
    "\n",
    "\n"
   ]
  },
  {
   "cell_type": "code",
   "execution_count": null,
   "metadata": {},
   "outputs": [],
   "source": []
  }
 ],
 "metadata": {
  "kernelspec": {
   "display_name": "Python 3",
   "language": "python",
   "name": "python3"
  },
  "language_info": {
   "codemirror_mode": {
    "name": "ipython",
    "version": 3
   },
   "file_extension": ".py",
   "mimetype": "text/x-python",
   "name": "python",
   "nbconvert_exporter": "python",
   "pygments_lexer": "ipython3",
   "version": "3.8.1"
  }
 },
 "nbformat": 4,
 "nbformat_minor": 4
}
