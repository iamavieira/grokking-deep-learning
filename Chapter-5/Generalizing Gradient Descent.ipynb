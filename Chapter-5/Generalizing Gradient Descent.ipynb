{
 "cells": [
  {
   "cell_type": "markdown",
   "metadata": {},
   "source": [
    "Gradient Descent with multiple inputs"
   ]
  },
  {
   "cell_type": "code",
   "execution_count": null,
   "metadata": {},
   "outputs": [],
   "source": [
    "import numpy as np;"
   ]
  },
  {
   "cell_type": "code",
   "execution_count": null,
   "metadata": {},
   "outputs": [],
   "source": [
    "input, weight = [[8.5, .3, 2.3], [.2, 5, 8]];\n",
    "alpha, goal_pred, interaction = (.01, 90, 400);"
   ]
  },
  {
   "cell_type": "code",
   "execution_count": null,
   "metadata": {},
   "outputs": [],
   "source": [
    "def dot(vec_a, vec_b):\n",
    "    assert(len(vec_a) == len(vec_b));\n",
    "    output = 0;\n",
    "    for i in range(len(vec_a)):\n",
    "        output += vec_a[i] * vec_b[i];\n",
    "    return output;\n",
    "\n",
    "def calc_scalar_vec(scalar, vec):\n",
    "    output = [];\n",
    "    for i in range(len(vec)):\n",
    "        output.append(scalar * vec[i]);\n",
    "    return output;\n",
    "\n",
    "def calc_weight(weight, weight_delta):\n",
    "    output = [];\n",
    "    for i in range(len(weight)):\n",
    "        output.append(weight[i] - weight_delta[i] * alpha);\n",
    "    return output;\n",
    "\n",
    "def neural_network(input, weight):\n",
    "    for i in range(interaction):\n",
    "        pred = dot(input, weight);\n",
    "        msquared_error = (pred - goal_pred) ** 2;\n",
    "        delta = pred - goal_pred;\n",
    "        weight_delta = calc_scalar_vec(delta, input);\n",
    "        weight = calc_weight(weight, weight_delta);\n",
    "        print('Pred: ' + str(pred) + ' Error: ' + str(msquared_error));\n",
    "        if(msquared_error == 0):\n",
    "            break;\n",
    "            \n",
    "neural_network(weight, input);         "
   ]
  },
  {
   "cell_type": "code",
   "execution_count": null,
   "metadata": {},
   "outputs": [],
   "source": [
    "alpha = .1;\n",
    "def neural_network(input, weight):\n",
    "    for i in range(interaction):\n",
    "        pred = np.dot(input, weight);\n",
    "        msquared_error = (pred - goal_pred) ** 2\n",
    "        delta = pred - goal_pred;\n",
    "        weight_delta = np.dot(delta, input);\n",
    "        weight_delta[0] = 0;\n",
    "        weight = np.subtract(weight, np.dot(weight_delta, alpha));\n",
    "        print('Pred: ' + str(pred) + ' Error: ' + str(msquared_error));\n",
    "              #+ ' Weight: ' + str(weight) + ' Weight_delta: ' + str(weight_delta)\n",
    "              #+ ' Delta: ' + str(delta));\n",
    "        if( msquared_error == 0):\n",
    "            break;\n",
    "        \n",
    "neural_network(input, weight);"
   ]
  },
  {
   "cell_type": "markdown",
   "metadata": {},
   "source": [
    "Alpha was set lower given the high value of input a, \n",
    "that was causing the network to overshoot."
   ]
  },
  {
   "cell_type": "markdown",
   "metadata": {},
   "source": [
    "Gradient Descent with multiple outputs."
   ]
  },
  {
   "cell_type": "code",
   "execution_count": null,
   "metadata": {},
   "outputs": [],
   "source": [
    "input, alpha = 8.5, .01;\n",
    "weight, goal_pred = [[.2, 5, 8], [20, 500, 2]];\n",
    "def msquared(pred, goal_pred):\n",
    "    assert(len(pred) == len(goal_pred));\n",
    "    error = [];\n",
    "    for i in range(len(goal_pred)):\n",
    "        error.append((pred[i] - goal_pred[i]) ** 2);\n",
    "    return error;\n",
    "\n",
    "def calc_delta(pred, goal_pred):\n",
    "    output = [];\n",
    "    for i in range(len(goal_pred)):\n",
    "        output.append(pred[i] - goal_pred[i]);\n",
    "    return output;\n",
    "\n",
    "def neural_network(input, weight):\n",
    "    for i in range(interaction):\n",
    "        pred = calc_scalar_vec(input, weight);\n",
    "        msquared_error = msquared(pred, goal_pred);\n",
    "        delta = calc_delta(pred, goal_pred);\n",
    "        weight_delta = calc_scalar_vec(input, delta);\n",
    "        weight = calc_weight(weight, weight_delta);\n",
    "        print('Pred: ' + str(pred) + ' \\nError: ' + str(msquared_error));\n",
    "        if (not np.any(msquared_error)): break;\n",
    "        \n",
    "neural_network(input, weight);"
   ]
  },
  {
   "cell_type": "code",
   "execution_count": null,
   "metadata": {},
   "outputs": [],
   "source": [
    "input, alpha = 8.5, .01;\n",
    "weight, goal_pred = np.array([.2, 5, 8]), np.array([20, 500, 2]);\n",
    "def neural_network(input, weight):\n",
    "    for i in range(interaction):\n",
    "        pred = np.dot(input, weight);\n",
    "        msquared_error = (np.subtract(pred, goal_pred)) ** 2\n",
    "        delta = np.subtract(pred, goal_pred);\n",
    "        weight_delta = np.dot(input, delta);\n",
    "        weight = np.subtract(weight, np.dot(weight_delta, alpha));\n",
    "        print('Pred: ' + str(pred) + ' Error: ' + str(msquared_error));\n",
    "        print('Delta: ' + str(delta) + ' Weight_delta: ' + str(weight_delta));\n",
    "        if(not np.any(msquared_error)): break;\n",
    "            \n",
    "neural_network(input, weight);\n"
   ]
  },
  {
   "cell_type": "markdown",
   "metadata": {},
   "source": [
    "Gradient Descent with multiple inputs, multiples outputs."
   ]
  },
  {
   "cell_type": "code",
   "execution_count": null,
   "metadata": {},
   "outputs": [],
   "source": [
    "input, goal_pred = [ [85, 32, 4], [.2, .3, .6] ];\n",
    "weights = [ [0, 0, 0],\n",
    "           [0, 0, 0],\n",
    "           [0, 0, 0] ];\n",
    "alpha = .0001;\n",
    "\n",
    "def vec_matrix_mult(vec, matrix):\n",
    "    output = [];\n",
    "    for i in range(len(matrix)):\n",
    "        assert(len(vec) == len(matrix[i]));\n",
    "        output.append(dot(vec, matrix[i]));\n",
    "    return output;\n",
    "\n",
    "def calc_weight_delta(input, delta):\n",
    "    assert(len(input) == len(delta));\n",
    "    output = []; \n",
    "    for i in range(len(delta)): \n",
    "        output.append(calc_scalar_vec(delta[i], input));\n",
    "    return output;\n",
    "\n",
    "def wrap(weights, weight_delta):\n",
    "    assert(len(weights) == len(weight_delta))\n",
    "    output = []\n",
    "    for i in range(len(weight)):\n",
    "        output.append(calc_weight(weights[i], weight_delta[i]));\n",
    "    return output;\n",
    "\n",
    "def neural_network(input, weights):\n",
    "    for i in range(interaction):\n",
    "        pred = vec_matrix_mult(input, weights);\n",
    "        msquared_error = msquared(pred, goal_pred);\n",
    "        delta = calc_delta(pred, goal_pred);\n",
    "        weight_delta = calc_weight_delta(input, delta);\n",
    "        weights = wrap(weights, weight_delta);\n",
    "        print('Pred: ' + str(pred) + ' Error: ' + str(msquared_error));\n",
    "        if(not np.any(msquared_error)): break;\n",
    "        print('---------------');\n",
    "        \n",
    "neural_network(input, weights);"
   ]
  },
  {
   "cell_type": "code",
   "execution_count": null,
   "metadata": {},
   "outputs": [],
   "source": [
    "input, goal_pred = np.array([2, 10, 11]), np.array([8, 420, 310, 1000]);\n",
    "weights = np.random.rand(4, 3).T;\n",
    "alpha = .001;\n",
    "\n",
    "def neural_network(input, weights):\n",
    "    for i in range(interaction):\n",
    "        pred = input.dot(weights);\n",
    "        msquared_error = np.subtract(pred, goal_pred) ** 2;\n",
    "        delta = np.subtract(pred, goal_pred);\n",
    "        output = [];\n",
    "        for i in range(len(delta)):\n",
    "            output.append(np.dot(input, delta[i]));\n",
    "        weight_delta = np.array(output).T;\n",
    "        weights = np.subtract(weights, np.dot(weight_delta, alpha));\n",
    "        print('Pred: ' + str(pred) + ' Error: ' + str(msquared_error));\n",
    "        if(not np.any(msquared_error)): break;\n",
    "            \n",
    "neural_network(input, weights);"
   ]
  },
  {
   "cell_type": "markdown",
   "metadata": {},
   "source": [
    ">The takeaway:\n",
    "    Dot product is a loose measurement of similarity between \n",
    "    two vectors."
   ]
  },
  {
   "cell_type": "code",
   "execution_count": null,
   "metadata": {},
   "outputs": [],
   "source": [
    "The rest of the book will be spent exploring different types\n",
    "of weight combinations and error functions for which \n",
    "Gradient Descent is useful"
   ]
  }
 ],
 "metadata": {
  "kernelspec": {
   "display_name": "Python 3",
   "language": "python",
   "name": "python3"
  },
  "language_info": {
   "codemirror_mode": {
    "name": "ipython",
    "version": 3
   },
   "file_extension": ".py",
   "mimetype": "text/x-python",
   "name": "python",
   "nbconvert_exporter": "python",
   "pygments_lexer": "ipython3",
   "version": "3.5.2"
  }
 },
 "nbformat": 4,
 "nbformat_minor": 2
}
