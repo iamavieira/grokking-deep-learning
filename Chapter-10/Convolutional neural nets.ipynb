{
 "cells": [
  {
   "cell_type": "markdown",
   "metadata": {},
   "source": [
    "Learning edges and corners"
   ]
  },
  {
   "cell_type": "markdown",
   "metadata": {},
   "source": [
    "structure - reuse weights to identify the same patterns in multiple places over a single dense linear layer with every input connected to every output.\n",
    "\n",
    "Reusing weights has two consequences:\n",
    "    \n",
    "    reduce weight-to-data ratio - Makes our model more robust to overfitting\n",
    "    The model gets smaller - there are fewer parameters to store\n",
    "    \n",
    "While these would imply a model that does not have the same expressive power(ability to learn patterns) as before, if you're clever where you reuse those weights\n",
    "it can be equally expressive."
   ]
  },
  {
   "cell_type": "markdown",
   "metadata": {},
   "source": [
    "Convolution is the most widely used structure, and when used in a layer it's called a convolutional layer "
   ]
  },
  {
   "cell_type": "markdown",
   "metadata": {},
   "source": [
    "A convolutional layer is nothing more than a bunch of small(baby) linear layers with usually fewer than 25 input parameters and a single output, which you use in every input position.\n",
    "These baby linear layers are called convolutional kernels."
   ]
  },
  {
   "cell_type": "code",
   "execution_count": null,
   "metadata": {},
   "outputs": [],
   "source": []
  }
 ],
 "metadata": {
  "kernelspec": {
   "display_name": "Python 3",
   "language": "python",
   "name": "python3"
  },
  "language_info": {
   "codemirror_mode": {
    "name": "ipython",
    "version": 3
   },
   "file_extension": ".py",
   "mimetype": "text/x-python",
   "name": "python",
   "nbconvert_exporter": "python",
   "pygments_lexer": "ipython3",
   "version": "3.8.1"
  }
 },
 "nbformat": 4,
 "nbformat_minor": 4
}
