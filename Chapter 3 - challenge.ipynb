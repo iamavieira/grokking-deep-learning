{
 "cells": [
  {
   "cell_type": "markdown",
   "metadata": {},
   "source": [
    "Being able to manipulate vectors is a cornerstone technique for Deep Learning. \n",
    "See if you can write functions that perform the following operations: \n",
    "def elementwise_multiplication(vec_a, vec_b) def vector_sum(vec_a)\n",
    "def elementwise_addition(vec_a, vec_b) def vector_average(vec_a)\n",
    "Then, see if you can use two of these methods to perform a dot product!"
   ]
  },
  {
   "cell_type": "code",
   "execution_count": 12,
   "metadata": {},
   "outputs": [
    {
     "name": "stdout",
     "output_type": "stream",
     "text": [
      "0.9800000000000001\n"
     ]
    }
   ],
   "source": [
    "weights = [0.1, 0.2, 0];\n",
    "toes = [8.5, 9.5, 9.9, 9.0];\n",
    "wlrec = [0.65, 0.8, 0.8, 0.9];\n",
    "nfans = [1.2, 1.3, 0.5, 1.0];\n",
    "\n",
    "def elementwise_multiplication(information, knowledge):\n",
    "    assert(len(information) == len(knowledge))\n",
    "    output = [];\n",
    "    for i in range(len(information)):\n",
    "        output.append(information[i] * knowledge[i]);\n",
    "    return output;\n",
    "\n",
    "def elementwise_addition(information, knowledge):\n",
    "    assert(len(information) == len(knowledge));\n",
    "    output = [];\n",
    "    for i in range(len(information)):\n",
    "        output.append(information[i] + knowledge[i]);\n",
    "    return output;\n",
    "\n",
    "def vector_sum(pred):\n",
    "    output = 0;\n",
    "    for i in pred:\n",
    "        output += i;\n",
    "    return output;\n",
    "\n",
    "def vector_avg(pred):\n",
    "    return vector_sum(pred)/len(pred);\n",
    "\n",
    "def dot_product(information, knowledge):\n",
    "    return vector_sum(elementwise_multiplication(information, knowledge));\n",
    "\n",
    "input = [toes[0], wlrec[0], nfans[0]];\n",
    "\n",
    "pred = dot_product(input, weights);\n",
    "\n",
    "print(str(pred));"
   ]
  },
  {
   "cell_type": "code",
   "execution_count": null,
   "metadata": {},
   "outputs": [],
   "source": [
    "Challenge complete!"
   ]
  }
 ],
 "metadata": {
  "kernelspec": {
   "display_name": "Python 3",
   "language": "python",
   "name": "python3"
  },
  "language_info": {
   "codemirror_mode": {
    "name": "ipython",
    "version": 3
   },
   "file_extension": ".py",
   "mimetype": "text/x-python",
   "name": "python",
   "nbconvert_exporter": "python",
   "pygments_lexer": "ipython3",
   "version": "3.6.5"
  }
 },
 "nbformat": 4,
 "nbformat_minor": 2
}
