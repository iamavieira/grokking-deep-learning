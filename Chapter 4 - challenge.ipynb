{
 "cells": [
  {
   "cell_type": "markdown",
   "metadata": {},
   "source": [
    "Memorizing - Build neural network from memory."
   ]
  },
  {
   "cell_type": "code",
   "execution_count": 7,
   "metadata": {},
   "outputs": [
    {
     "name": "stdout",
     "output_type": "stream",
     "text": [
      "Weight: 0.2\n",
      "Pred :0.6000000000000001 Error: 595.3599999999999 Delta: -24.4 Weight_delta: -73.19999999999999\n",
      "-----------------\n",
      "Weight: 7.52\n",
      "Pred :22.56 Error: 5.953600000000006 Delta: -2.4400000000000013 Weight_delta: -7.320000000000004\n",
      "-----------------\n",
      "Weight: 8.252\n",
      "Pred :24.756 Error: 0.05953599999999989 Delta: -0.24399999999999977 Weight_delta: -0.7319999999999993\n",
      "-----------------\n",
      "Weight: 8.3252\n",
      "Pred :24.9756 Error: 0.0005953599999999989 Delta: -0.024399999999999977 Weight_delta: -0.07319999999999993\n",
      "-----------------\n",
      "Weight: 8.33252\n",
      "Pred :24.99756 Error: 5.953599999999989e-06 Delta: -0.0024399999999999977 Weight_delta: -0.007319999999999993\n",
      "-----------------\n",
      "Weight: 8.333252\n",
      "Pred :24.999755999999998 Error: 5.953600000104012e-08 Delta: -0.0002440000000021314 Weight_delta: -0.0007320000000063942\n",
      "-----------------\n",
      "Weight: 8.3333252\n",
      "Pred :24.999975600000003 Error: 5.953599998717033e-10 Delta: -2.439999999737097e-05 Weight_delta: -7.319999999211291e-05\n",
      "-----------------\n",
      "Weight: 8.33333252\n",
      "Pred :24.999997560000004 Error: 5.953599979646066e-12 Delta: -2.439999995829112e-06 Weight_delta: -7.319999987487336e-06\n",
      "-----------------\n",
      "Weight: 8.333333252\n",
      "Pred :24.999999755999998 Error: 5.953600118344009e-14 Delta: -2.4400000242508213e-07 Weight_delta: -7.320000072752464e-07\n",
      "-----------------\n",
      "Weight: 8.3333333252\n",
      "Pred :24.999999975599998 Error: 5.953600985206186e-16 Delta: -2.4400002018865052e-08 Weight_delta: -7.320000605659516e-08\n",
      "-----------------\n",
      "Weight: 8.33333333252\n",
      "Pred :24.999999997560003 Error: 5.953583647974621e-18 Delta: -2.4399966491728264e-09 Weight_delta: -7.319989947518479e-09\n",
      "-----------------\n",
      "Weight: 8.333333333252\n",
      "Pred :24.999999999756 Error: 5.953618322462995e-20 Delta: -2.440003754600184e-10 Weight_delta: -7.320011263800552e-10\n",
      "-----------------\n",
      "Weight: 8.3333333333252\n",
      "Pred :24.9999999999756 Error: 5.953618322462995e-22 Delta: -2.440003754600184e-11 Weight_delta: -7.320011263800552e-11\n",
      "-----------------\n",
      "Weight: 8.33333333333252\n",
      "Pred :24.999999999997563 Error: 5.939756584854196e-24 Delta: -2.4371615836571436e-12 Weight_delta: -7.311484750971431e-12\n",
      "-----------------\n",
      "Weight: 8.333333333333252\n",
      "Pred :24.99999999999976 Error: 5.836308521187134e-26 Delta: -2.4158453015843406e-13 Weight_delta: -7.247535904753022e-13\n",
      "-----------------\n",
      "Weight: 8.333333333333325\n",
      "Pred :24.999999999999975 Error: 6.184669496932733e-28 Delta: -2.4868995751603507e-14 Weight_delta: -7.460698725481052e-14\n",
      "-----------------\n",
      "Weight: 8.333333333333332\n",
      "Pred :24.999999999999996 Error: 1.262177448353619e-29 Delta: -3.552713678800501e-15 Weight_delta: -1.0658141036401503e-14\n",
      "-----------------\n",
      "Weight: 8.333333333333334\n",
      "Pred :25.0 Error: 0.0 Delta: 0.0 Weight_delta: 0.0\n",
      "-----------------\n",
      "Weight: 8.333333333333334\n",
      "Pred :25.0 Error: 0.0 Delta: 0.0 Weight_delta: 0.0\n",
      "-----------------\n",
      "Weight: 8.333333333333334\n",
      "Pred :25.0 Error: 0.0 Delta: 0.0 Weight_delta: 0.0\n",
      "-----------------\n"
     ]
    }
   ],
   "source": [
    "input, weight, goal_pred, alpha, interaction = (3, .2, 25, .1, 20);\n",
    "\n",
    "def neural_network(input, weight):\n",
    "    for i in range(interaction):\n",
    "        pred = input * weight;\n",
    "        print('Weight: ' + str(weight));\n",
    "        msquared_error = (pred - goal_pred) ** 2;\n",
    "        delta = pred - goal_pred;\n",
    "        weight_delta = delta * input;\n",
    "        weight -= weight_delta * alpha\n",
    "    \n",
    "        print('Pred :' + str(pred) + ' Error: ' + str(msquared_error)\n",
    "          + ' Delta: ' + str(delta) + ' Weight_delta: ' + str(weight_delta)\n",
    "          + '\\n-----------------');\n",
    "\n",
    "\n",
    "neural_network(input, weight);"
   ]
  }
 ],
 "metadata": {
  "kernelspec": {
   "display_name": "Python 3",
   "language": "python",
   "name": "python3"
  },
  "language_info": {
   "codemirror_mode": {
    "name": "ipython",
    "version": 3
   },
   "file_extension": ".py",
   "mimetype": "text/x-python",
   "name": "python",
   "nbconvert_exporter": "python",
   "pygments_lexer": "ipython3",
   "version": "3.6.5"
  }
 },
 "nbformat": 4,
 "nbformat_minor": 2
}
