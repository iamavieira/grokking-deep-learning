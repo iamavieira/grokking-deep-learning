{
 "cells": [
  {
   "cell_type": "markdown",
   "metadata": {},
   "source": [
    "Multiple inputs one output - with and w/o numpy"
   ]
  },
  {
   "cell_type": "code",
   "execution_count": 25,
   "metadata": {},
   "outputs": [],
   "source": [
    "weights = [0.1, 0.2, 0]\n",
    "toes = [8.5, 9.5, 9.9, 9.0];\n",
    "wlrec = [0.65, 0.8, 0.8, 0.9];\n",
    "nfans = [1.2, 1.3, 0.5, 1.0];\n",
    "input = [toes[0], wlrec[0], nfans[0]];"
   ]
  },
  {
   "cell_type": "code",
   "execution_count": 26,
   "metadata": {},
   "outputs": [
    {
     "name": "stdout",
     "output_type": "stream",
     "text": [
      "w/o: 0.9800000000000001\n"
     ]
    }
   ],
   "source": [
    "def dot_product(information, knowledge):\n",
    "    assert(len(information) == len(knowledge));\n",
    "    output = 0;\n",
    "    for i in range(len(information)):\n",
    "        output += information[i] * knowledge[i];\n",
    "    return output;\n",
    "\n",
    "pred = dot_product(input, weights);\n",
    "print('w/o: ' + str(pred));"
   ]
  },
  {
   "cell_type": "code",
   "execution_count": 41,
   "metadata": {},
   "outputs": [
    {
     "name": "stdout",
     "output_type": "stream",
     "text": [
      "np: [0.555 0.98  0.965]\n"
     ]
    }
   ],
   "source": [
    "import numpy as np\n",
    "\n",
    "pred = np.dot(input, weights);\n",
    "print('np: ' + str(pred));"
   ]
  },
  {
   "cell_type": "markdown",
   "metadata": {},
   "source": [
    "Multiple inputs & outputs - with and w/o numpy"
   ]
  },
  {
   "cell_type": "code",
   "execution_count": 35,
   "metadata": {},
   "outputs": [
    {
     "name": "stdout",
     "output_type": "stream",
     "text": [
      "w/o: [0.555, 0.9800000000000001, 0.9650000000000001]\n"
     ]
    }
   ],
   "source": [
    "            #toes %win #fans\n",
    "weights = [ [0.1, 0.1, -0.3],#hurt? \n",
    "            [0.1, 0.2, 0.0], #win?\n",
    "            [0.0, 1.3, 0.1] ]#sad?\n",
    "\n",
    "def vector_matrix_mult(information, knowledge):\n",
    "    output = [];\n",
    "    for i in range(len(knowledge)):\n",
    "        output.append(dot_product(information, knowledge[i]));\n",
    "    return output;    \n",
    "pred = vector_matrix_mult(input, weights);\n",
    "\n",
    "print('w/o: ' + str(pred));"
   ]
  },
  {
   "cell_type": "code",
   "execution_count": 39,
   "metadata": {},
   "outputs": [
    {
     "name": "stdout",
     "output_type": "stream",
     "text": [
      "np:  [0.555 0.98  0.965]\n"
     ]
    }
   ],
   "source": [
    "input = [toes[0], wlrec[0], nfans[0]];\n",
    "                    #toes %win #fans\n",
    "weights = np.array([ [0.1, 0.1, -0.3],#hurt? \n",
    "                     [0.1, 0.2, 0.0], #win?\n",
    "                     [0.0, 1.3, 0.1] ]).T;#sad?\n",
    "\n",
    "pred = np.dot(input, weights);\n",
    "print('np: ', pred);"
   ]
  },
  {
   "cell_type": "markdown",
   "metadata": {},
   "source": [
    "Multiple inputs & outputs with hidden layer - w/o"
   ]
  },
  {
   "cell_type": "code",
   "execution_count": 62,
   "metadata": {},
   "outputs": [
    {
     "name": "stdout",
     "output_type": "stream",
     "text": [
      "Pred hidden: [0.8600000000000001, 0.29499999999999993, 1.23]\n",
      "Pred: [0.21350000000000002, 0.14500000000000002, 0.5065]\n"
     ]
    }
   ],
   "source": [
    "                 #toes %win #fans\n",
    "hidden_weights = [[0.1, 0.2, -0.1],#hidden[0]\n",
    "                  [-0.1, 0.1, 0.9], #hidden[1]\n",
    "                  [0.1, 0.4, 0.1] ];#hidden[2]\n",
    "\n",
    "                   # hid[0] hid[1] hid[2]\n",
    "weights_toplayer = [ [0.3, 1.1, -0.3],#hurt?\n",
    "                     [0.1, 0.2, 0.0], #win?\n",
    "                     [0.0, 1.3, 0.1] ]#sad?\n",
    "\n",
    "weights = [hidden_weights, weights_toplayer];\n",
    "def neural_network(input, weights):\n",
    "    hidden_pred = vector_matrix_mult(input, weights[0]);\n",
    "    print('Pred hidden: ' + str(hidden_pred));\n",
    "    pred = vector_matrix_mult(hidden_pred, weights[1]);\n",
    "    return pred;\n",
    "\n",
    "pred = neural_network(input,weights);\n",
    "print('Pred: ' + str(pred));\n",
    "    "
   ]
  },
  {
   "cell_type": "code",
   "execution_count": 64,
   "metadata": {},
   "outputs": [
    {
     "name": "stdout",
     "output_type": "stream",
     "text": [
      "Pred hidden: [0.86  0.295 1.23 ]\n",
      "Pred: [0.2135 0.145  0.5065]\n"
     ]
    }
   ],
   "source": [
    "                           #toes %win #fans\n",
    "hidden_weights = np.array([ [0.1, 0.2, -0.1],#hidden[0]\n",
    "                            [-0.1, 0.1, 0.9], #hidden[1]\n",
    "                            [0.1, 0.4, 0.1] ]).T;#hidden[2]\n",
    "\n",
    "                            # hid[0] hid[1] hid[2]\n",
    "weights_toplayer = np.array([ [0.3, 1.1, -0.3],#hurt?\n",
    "                              [0.1, 0.2, 0.0], #win?\n",
    "                              [0.0, 1.3, 0.1] ]).T;#sad?\n",
    "\n",
    "weights = [hidden_weights, weights_toplayer];\n",
    "def neural_network(input, weights):\n",
    "    pred_hidden = np.dot(input, weights[0]);\n",
    "    print('Pred hidden: ' + str(pred_hidden));\n",
    "    pred = np.dot(pred_hidden, weights[1]);\n",
    "    return pred;\n",
    "\n",
    "pred = neural_network(input, weights);\n",
    "print('Pred: ' + str(pred));"
   ]
  },
  {
   "cell_type": "code",
   "execution_count": null,
   "metadata": {},
   "outputs": [],
   "source": []
  }
 ],
 "metadata": {
  "kernelspec": {
   "display_name": "Python 3",
   "language": "python",
   "name": "python3"
  },
  "language_info": {
   "codemirror_mode": {
    "name": "ipython",
    "version": 3
   },
   "file_extension": ".py",
   "mimetype": "text/x-python",
   "name": "python",
   "nbconvert_exporter": "python",
   "pygments_lexer": "ipython3",
   "version": "3.6.5"
  }
 },
 "nbformat": 4,
 "nbformat_minor": 2
}
