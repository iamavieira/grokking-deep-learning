{
 "cells": [
  {
   "cell_type": "markdown",
   "metadata": {},
   "source": [
    "Multiple inputs one output - with and w/o numpy"
   ]
  },
  {
   "cell_type": "code",
   "execution_count": 2,
   "metadata": {},
   "outputs": [],
   "source": [
    "weights = [0.1, 0.2, 0]\n",
    "toes = [8.5, 9.5, 9.9, 9.0];\n",
    "wlrec = [0.65, 0.8, 0.8, 0.9];\n",
    "nfans = [1.2, 1.3, 0.5, 1.0];\n",
    "input = [toes[0], wlrec[0], nfans[0]];"
   ]
  },
  {
   "cell_type": "code",
   "execution_count": 3,
   "metadata": {},
   "outputs": [
    {
     "name": "stdout",
     "output_type": "stream",
     "text": [
      "w/o: 0.9800000000000001\n"
     ]
    }
   ],
   "source": [
    "def dot_product(information, knowledge):\n",
    "    assert(len(information) == len(knowledge));\n",
    "    output = 0;\n",
    "    for i in range(len(information)):\n",
    "        output += information[i] * knowledge[i];\n",
    "    return output;\n",
    "\n",
    "pred = dot_product(input, weights);\n",
    "print('w/o: ' + str(pred));"
   ]
  },
  {
   "cell_type": "code",
   "execution_count": 4,
   "metadata": {},
   "outputs": [
    {
     "name": "stdout",
     "output_type": "stream",
     "text": [
      "np: 0.9800000000000001\n"
     ]
    }
   ],
   "source": [
    "import numpy as np\n",
    "\n",
    "pred = np.dot(input, weights);\n",
    "print('np: ' + str(pred));"
   ]
  },
  {
   "cell_type": "markdown",
   "metadata": {},
   "source": [
    "Multiple inputs & outputs - with and w/o numpy"
   ]
  },
  {
   "cell_type": "code",
   "execution_count": 5,
   "metadata": {},
   "outputs": [
    {
     "name": "stdout",
     "output_type": "stream",
     "text": [
      "w/o: [0.555, 0.9800000000000001, 0.9650000000000001]\n"
     ]
    }
   ],
   "source": [
    "            #toes %win #fans\n",
    "weights = [ [0.1, 0.1, -0.3],#hurt? \n",
    "            [0.1, 0.2, 0.0], #win?\n",
    "            [0.0, 1.3, 0.1] ]#sad?\n",
    "\n",
    "def vector_matrix_mult(information, knowledge):\n",
    "    output = [];\n",
    "    for i in range(len(knowledge)):\n",
    "        output.append(dot_product(information, knowledge[i]));\n",
    "    return output;    \n",
    "pred = vector_matrix_mult(input, weights);\n",
    "\n",
    "print('w/o: ' + str(pred));"
   ]
  },
  {
   "cell_type": "code",
   "execution_count": 6,
   "metadata": {},
   "outputs": [
    {
     "name": "stdout",
     "output_type": "stream",
     "text": [
      "np:  [0.555 0.98  0.965]\n"
     ]
    }
   ],
   "source": [
    "input = [toes[0], wlrec[0], nfans[0]];\n",
    "                    #toes %win #fans\n",
    "weights = np.array([ [0.1, 0.1, -0.3],#hurt? \n",
    "                     [0.1, 0.2, 0.0], #win?\n",
    "                     [0.0, 1.3, 0.1] ]).T;#sad?\n",
    "\n",
    "pred = np.dot(input, weights);\n",
    "print('np: ', pred);"
   ]
  },
  {
   "cell_type": "markdown",
   "metadata": {},
   "source": [
    "Multiple inputs & outputs with hidden layer - w/o"
   ]
  },
  {
   "cell_type": "code",
   "execution_count": 7,
   "metadata": {},
   "outputs": [
    {
     "name": "stdout",
     "output_type": "stream",
     "text": [
      "Pred hidden: [0.8600000000000001, 0.29499999999999993, 1.23]\n",
      "Pred: [0.21350000000000002, 0.14500000000000002, 0.5065]\n"
     ]
    }
   ],
   "source": [
    "                 #toes %win #fans\n",
    "hidden_weights = [[0.1, 0.2, -0.1],#hidden[0]\n",
    "                  [-0.1, 0.1, 0.9], #hidden[1]\n",
    "                  [0.1, 0.4, 0.1] ];#hidden[2]\n",
    "\n",
    "                   # hid[0] hid[1] hid[2]\n",
    "weights_toplayer = [ [0.3, 1.1, -0.3],#hurt?\n",
    "                     [0.1, 0.2, 0.0], #win?\n",
    "                     [0.0, 1.3, 0.1] ]#sad?\n",
    "\n",
    "weights = [hidden_weights, weights_toplayer];\n",
    "def neural_network(input, weights):\n",
    "    hidden_pred = vector_matrix_mult(input, weights[0]);\n",
    "    print('Pred hidden: ' + str(hidden_pred));\n",
    "    pred = vector_matrix_mult(hidden_pred, weights[1]);\n",
    "    return pred;\n",
    "\n",
    "pred = neural_network(input,weights);\n",
    "print('Pred: ' + str(pred));\n"
   ]
  },
  {
   "cell_type": "code",
   "execution_count": 9,
   "metadata": {},
   "outputs": [
    {
     "name": "stdout",
     "output_type": "stream",
     "text": [
      "Pred hidden: [0.86  0.295 1.23 ]\n",
      "Pred: [0.2135 0.145  0.5065 2.0095]\n"
     ]
    }
   ],
   "source": [
    "                           #toes %win #fans\n",
    "hidden_weights = np.array([ [0.1, 0.2, -0.1],#hidden[0]\n",
    "                            [-0.1, 0.1, 0.9], #hidden[1]\n",
    "                            [0.1, 0.4, 0.1] ]).T;#hidden[2]\n",
    "\n",
    "                            # hid[0] hid[1] hid[2]\n",
    "weights_toplayer = np.array([ [0.3, 1.1, -0.3],#hurt?\n",
    "                              [0.1, 0.2, 0.0],#win?\n",
    "                              [0.0, 1.3, 0.1],#sad?\n",
    "                              [0.3, .1, 1.4] ]).T;#don`t care, whatever.\n",
    "\n",
    "weights = [hidden_weights, weights_toplayer];\n",
    "def neural_network(input, weights):\n",
    "    pred_hidden = np.dot(input, weights[0]);\n",
    "    print('Pred hidden: ' + str(pred_hidden));\n",
    "    pred = np.dot(pred_hidden, weights[1]);\n",
    "    return pred;\n",
    "\n",
    "pred = neural_network(input, weights);\n",
    "print('Pred: ' + str(pred));"
   ]
  },
  {
   "cell_type": "markdown",
   "metadata": {},
   "source": [
    "A prime on numpy - Break down the magic."
   ]
  },
  {
   "cell_type": "code",
   "execution_count": 12,
   "metadata": {
    "scrolled": true
   },
   "outputs": [
    {
     "name": "stdout",
     "output_type": "stream",
     "text": [
      "#######Variables#######\n",
      "a: [0 1 2 3]\n",
      "b: [4 5 6 7]\n",
      "c: [[0 1 2 3]\n",
      " [4 5 6 7]]\n",
      "d: [[0. 0. 0. 0.]\n",
      " [0. 0. 0. 0.]]\n",
      "e: [[0.07473464 0.30079775 0.43095647 0.04659235 0.96872454]\n",
      " [0.97901961 0.7193479  0.22345625 0.70696858 0.38762424]]\n",
      "e: [[0. 0. 0. 0.]]\n",
      "e: [[0. 0. 0.]\n",
      " [0. 0. 0.]\n",
      " [0. 0. 0.]\n",
      " [0. 0. 0.]]\n",
      "\n",
      "#####Elementwise anything########\n",
      "[0.  0.1 0.2 0.3]\n",
      "[[0.  0.2 0.4 0.6]\n",
      " [0.8 1.  1.2 1.4]]\n",
      "[ 0  5 12 21]\n",
      "[0.  1.  2.4 4.2]\n",
      "[[ 0  1  4  9]\n",
      " [ 0  5 12 21]]\n",
      "\n",
      "#########Dot Product########\n",
      "f.dot(g): (1, 3)\n",
      "e.dot(i): (2, 3)\n"
     ]
    }
   ],
   "source": [
    "a = np.array([ 0, 1, 2, 3]);\n",
    "b = np.array([ 4, 5, 6, 7]);\n",
    "c = np.array([ [ 0, 1, 2, 3],\n",
    "               [ 4, 5, 6, 7] ]);#matrix ♥\n",
    "\n",
    "d = np.zeros((2, 4));\n",
    "e = np.random.rand(2, 5);\n",
    "f = np.zeros((1, 4));\n",
    "g = np.zeros((4, 3));\n",
    "i = np.zeros((3,5)).T;\n",
    "print('#######Variables#######');\n",
    "print('a: ' + str(a));\n",
    "print('b: ' + str(b));\n",
    "print('c: ' + str(c));\n",
    "print('d: ' + str(d));\n",
    "print('e: ' + str(e));\n",
    "print('e: ' + str(f));\n",
    "print('e: ' + str(g));\n",
    "\n",
    "print('\\n#####Elementwise anything########');\n",
    "\n",
    "print(a * .1);\n",
    "print(c * .2);\n",
    "print(a * b);\n",
    "print(a * b * .2);\n",
    "print((a * c));\n",
    "#print(a * e);\n",
    "#ValueError: operands could not be broadcast\n",
    "#together with shapes (4,) (2,5);\n",
    "\n",
    "print('\\n#########Dot Product########');\n",
    "print('f.dot(g): ' + str(f.dot(g).shape));\n",
    "print('e.dot(i): ' + str(e.dot(i).shape));"
   ]
  }
 ],
 "metadata": {
  "kernelspec": {
   "display_name": "Python 3",
   "language": "python",
   "name": "python3"
  },
  "language_info": {
   "codemirror_mode": {
    "name": "ipython",
    "version": 3
   },
   "file_extension": ".py",
   "mimetype": "text/x-python",
   "name": "python",
   "nbconvert_exporter": "python",
   "pygments_lexer": "ipython3",
   "version": "3.6.5"
  }
 },
 "nbformat": 4,
 "nbformat_minor": 2
}
